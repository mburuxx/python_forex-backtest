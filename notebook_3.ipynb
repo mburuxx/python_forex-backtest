{
 "cells": [
  {
   "cell_type": "markdown",
   "metadata": {},
   "source": [
    "## In this notebook, we plot various candle prices"
   ]
  },
  {
   "cell_type": "code",
   "execution_count": 1,
   "metadata": {},
   "outputs": [],
   "source": [
    "import pandas as pd\n",
    "import utils\n",
    "import plotly.graph_objects as go"
   ]
  },
  {
   "cell_type": "code",
   "execution_count": 2,
   "metadata": {},
   "outputs": [],
   "source": [
    "pair = \"EUR_USD\"\n",
    "granularity = \"H1\"\n",
    "df = pd.read_pickle(utils.get_hist_data_filename(pair, granularity))\n",
    "#df.head()\n",
    "#df.describe()\n",
    "#df.info()\n",
    "#df.columns"
   ]
  },
  {
   "cell_type": "code",
   "execution_count": 3,
   "metadata": {},
   "outputs": [],
   "source": [
    "# convert object(strings) types to integer types for data manipulation\n",
    "non_cols = ['time', 'volume']\n",
    "mod_cols = [x for x in df.columns if x not in non_cols]\n",
    "\n",
    "df[mod_cols] = df[mod_cols].apply(pd.to_numeric)"
   ]
  },
  {
   "cell_type": "code",
   "execution_count": 4,
   "metadata": {},
   "outputs": [],
   "source": [
    "# plot last 100 candles\n",
    "df_plot = df.iloc[-100:].copy()"
   ]
  },
  {
   "cell_type": "code",
   "execution_count": 5,
   "metadata": {},
   "outputs": [
    {
     "data": {
      "application/vnd.plotly.v1+json": {
       "config": {
        "plotlyServerURL": "https://plot.ly"
       },
       "data": [
        {
         "close": {
          "bdata": "5e0IpwWv8D+qtwa2SrDwP3Qprir7rvA/xM4UOq+x8D+l942vPbPwPxakGYums/A/FXR7SWO08D/Bbti2KLPwPyb8Uj9vqvA/BK3AkNWt8D+FmbZ/ZaXwP4WZtn9lpfA/v7fpz36k8D/a5sb0hKXwP3TS+8bXnvA/3C4012mk8D9AE2HD06vwP9GuQspPqvA/sacd/pqs8D/qlbIMcazwP7U3+MJkqvA/RwN4CySo8D956SYxCKzwP5Qw0/avrPA/WfrQBfWt8D+RuMfSh67wP+utga0SrPA/zO7Jw0Kt8D+R0JZzKa7wPwg9m1Wfq/A/6X3ja8+s8D/T3uALk6nwP1oSoKaWrfA/eLmI78Ss8D9JS+XtCKfwPzGUE+0qpPA/OIQqNXug8D++h0uOO6XwP0KygAncuvA/5dU5BmSv8D+pnzcVqbDwP7LXuz/eq/A/CW05l+Kq8D+R0JZzKa7wP+XVOQZkr/A/gjl6/N6m8D9xWvCir6DwPzvkZrgBn/A/UWuad5yi8D8DJnDrbp7wP+V+h6JAn/A/VisTfqmf8D8EVg4tsp3wPx+F61G4nvA/V0PiHkuf8D+Lic3HtaHwP2gibHh6pfA/WrvtQnOd8D/MlxdgH53wP9FXkGYsmvA/J71vfO2Z8D9b64uEtpzwP5TZIJOMnPA/nkFD/wSX8D+m0HmNXaLwP8DnhxHCo/A/XHLcKR2s8D+BsilXeJfwP7XgRV9BmvA/RWRYxRuZ8D+kGYums5PwP/SJPEm6ZvA/hSUeUDZl8D/lCu9yEV/wPzbIJCNnYfA/JNHLKJZb8D9CeLRxxFrwP1tfJLTlXPA/NIC3QIJi8D8yOEpenWPwP1yPwvUoXPA/iIVa07xj8D88iJ0pdF7wP93SakjcY/A/D9HoDmJn8D8LQQ5KmGnwPyMQr+sXbPA/niRdM/lm8D9S7dPxmIHwP+LplbIMcfA/whIPKJty8D/8GHPXEnLwPxToE3mSdPA/8FAU6BN58D+Vgm4vaYzwP81YNJ2djPA/SrVPx2OG8D/8byU7NoLwPzLmriXkg/A/FW9kHvmD8D8=",
          "dtype": "f8"
         },
         "decreasing": {
          "fillcolor": "#CC2E3C",
          "line": {
           "color": "#FF3A4C"
          }
         },
         "high": {
          "bdata": "VWr2QCuw8D/gLZCg+LHwP4vgfyvZsfA/pics8YCy8D/APjp15bPwP0wao3VUtfA/opdRLLe08D8vi4nNx7XwP2wJ+aBns/A/jkC8rl+w8D/LviuC/63wP9Zuu9Bcp/A/gSGrWz2n8D9nCp3X2KXwP2fyzTY3pvA/v7fpz36k8D90Ka4q+67wP69fsBu2rfA/OiNKe4Ov8D/nNXaJ6q3wP3L5D+m3r/A/PGu3XWiu8D94uYjvxKzwPz7L8+DurPA/V7JjIxCv8D9y+Q/pt6/wP3RBfcucrvA/Htydtduu8D/Jjo1AvK7wPx7EzhQ6r/A/Psvz4O6s8D/pZRTLLa3wPz2bVZ+rrfA/cvkP6bev8D/pZRTLLa3wP9QOf03WqPA/MZQT7Sqk8D/YtiizQabwP7EWnwJgvPA/yLWhYpy/8D9oke18P7XwPzV7oBUYsvA/donqrYGt8D9Y4gFlU67wPzjzqzlAsPA/jBAebRyx8D+Z8Ev9vKnwP4tx/iYUovA/iSmRRC+j8D8wZHWr56TwP8anABjPoPA/Ups4ud+h8D9V+3Q8ZqDwP8jvbfqzn/A/x9eeWRKg8D+n6Egu/6HwP/Bt+rMfqfA/SWO0jqqm8D8EVg4tsp3wPwVu3c1TnfA/soAJ3Lqb8D+SeeQPBp7wP8RfkzXqofA/za/mAMGc8D/Az7hwIKTwP9eGinH+pvA/qFfKMsSx8D94uYjvxKzwP0HUfQBSm/A/lNkgk4yc8D+twJDVrZ7wP5p8s82NafA/H2gFhqxu8D+v6xfshm3wPw/R6A5iZ/A/GlHaG3xh8D9cj8L1KFzwP/yp8dJNYvA/+Um1T8dj8D/zcW2oGGfwP6BU+3Q8ZvA/niRdM/lm8D/xKQDGM2jwP9y6m6c6ZPA/DXGsi9to8D8ZkL3e/XHwP0t2bATidfA/W7bWFwlt8D9hVFInoInwP92YnrDEg/A/saIG0zB88D8u/yH99nXwPwuYwK27efA/Qj7o2ax68D9zS6shcY/wP5Hyk2qfjvA/499nXDiQ8D8Pf03WqIfwP8AJhQg4hPA/FD/G3LWE8D8=",
          "dtype": "f8"
         },
         "increasing": {
          "fillcolor": "#24A06B",
          "line": {
           "color": "#2EC886"
          }
         },
         "line": {
          "width": 1
         },
         "low": {
          "bdata": "O1PovMau8D+QoPgx5q7wP3Qprir7rvA/PGu3XWiu8D8bZJKRs7DwPzMzMzMzs/A/w552+Guy8D80SwLU1LLwP0W7Cik/qfA/mMCtu3mq8D/4ja89s6TwP4uJzce1ofA/wi/186ai8D83VIzzN6HwP3hi1ouhnPA/PBQF+kSe8D+Lic3HtaHwP0brqGqCqPA/Cp3X2CWq8D+Z2HxcG6rwPzvkZrgBn/A/SnuDL0ym8D+dgCbChqfwP16iemtgq/A/z2bV52qr8D89m1Wfq63wPwg9m1Wfq/A/eekmMQis8D8+y/Pg7qzwP0JD/wQXq/A/QkP/BBer8D8OFeP8TajwP0gbR6zFp/A/mMCtu3mq8D9pUgq6vaTwP276sx8povA/AK5kx0ag8D8AxjNo6J/wP9wuNNdppPA/z04GR8mr8D+QoPgx5q7wPybkg57NqvA/ZJKRs7Cn8D/RrkLKT6rwPz6zJEBNrfA/WYtPATCe8D87/DVZo57wPzwUBfpEnvA/dhppqbyd8D8EVg4tsp3wP3zysFBrmvA/AyZw626e8D+wIM1YNJ3wPz90QX3LnPA/rwj+t5Kd8D+twJDVrZ7wPwCuZMdGoPA/XBsqxvmb8D+EKjV7oJXwP9Of/UgRmfA/RpT2Bl+Y8D/Thy6ob5nwP5hp+1dWmvA/Z5sb0xOW8D/BkNWtnpPwP+fG9IQlnvA/coqO5PKf8D+jAbwFEpTwP2jLuRRXlfA/TYQNT6+U8D+PwvUoXI/wP2wm32xzY/A/cv4mFCJg8D/1SlmGOFbwPwmKH2PuWvA/tVTejnBa8D/0GrtE9VbwP0OQgxJmWvA/XHfzVIdc8D81mIbhI2LwPwmKH2PuWvA/nrXbLjRX8D8GKuPfZ1zwP3V2MjhKXvA//wkuVtRg8D+eJF0z+WbwPyi4WFGDafA/E2HD0ytl8D9Pr5RliGPwP6tbPSe9b/A/Vyb8Uj9v8D8730+Nl27wP/wYc9cScvA/pFNXPstz8D+A1CZO7nfwP0X11sBWifA/L26jAbyF8D9vZB75g4HwPzxO0ZFcfvA/NnaJ6q2B8D8=",
          "dtype": "f8"
         },
         "opacity": 1,
         "open": {
          "bdata": "j3Ba8KKv8D9XsmMjEK/wP8cuUb01sPA/dCmuKvuu8D+oV8oyxLHwPzMzMzMzs/A/FqQZi6az8D8VdHtJY7TwP97lIr4Ts/A/mMCtu3mq8D8ErcCQ1a3wP4WZtn9lpfA/9l0R/G+l8D8xfERMiaTwP0urIXGPpfA/dNL7xtee8D/cLjTXaaTwP7LXuz/eq/A/7iWN0Tqq8D+xpx3+mqzwP1xaDYl7rPA/tTf4wmSq8D/VPh2PGajwPyScFrzoq/A/eLmI78Ss8D/nNXaJ6q3wPx/0bFZ9rvA/eekmMQis8D+vd3+8V63wP5HQlnMprvA/eQH20amr8D9bQj7o2azwP9Pe4AuTqfA/ICQLmMCt8D/pfeNrz6zwP2XCL/XzpvA/MZQT7Sqk8D/Gv8+4cKDwP76HS447pfA/tHbbhea68D+r56T3ja/wPxtkkpGzsPA/XYqryr6r8D8JbTmX4qrwP5HQlnMprvA/VpqUgm6v8D8QdR+A1KbwPzUk7rH0ofA/kElGzsKe8D9Ra5p3nKLwPx+duvJZnvA/V0PiHkuf8D/kZrgBn5/wP+jewyXHnfA/O/w1WaOe8D/lfoeiQJ/wPzY8vVKWofA/S6shcY+l8D+wIM1YNJ3wP8yXF2AfnfA/0VeQZiya8D+Zgcr495nwP1vri4S2nPA/lNkgk4yc8D/XFwltOZfwPxiV1AloovA/3V7SGK2j8D/rrYGtEqzwP4GyKVd4l/A/teBFX0Ga8D+3KLNBJpnwP/gZFw6EZPA/9Ik8Sbpm8D8w2A3bFmXwP3RGlPYGX/A/NsgkI2dh8D+WlSaloFvwP0J4tHHEWvA/PujZrPpc8D/Du1zEd2LwP6T8pNqnY/A/QBh47j1c8D/d0mpI3GPwPzyInSl0XvA/3dJqSNxj8D+eDI6SV2fwPyi4WFGDafA/ldQJaCJs8D9KB+v/HGbwP1Lt0/GYgfA/xXJLqyFx8D9txf6ye3LwP/wYc9cScvA/+HDJcad08D8MyF7v/njwP0Otad5xivA/I74Ts16M8D+fAmA8g4bwP4qryr4rgvA/MuauJeSD8D8=",
          "dtype": "f8"
         },
         "type": "candlestick",
         "x": [
          "2025-01-28T23:00:00.000000000Z",
          "2025-01-29T00:00:00.000000000Z",
          "2025-01-29T01:00:00.000000000Z",
          "2025-01-29T02:00:00.000000000Z",
          "2025-01-29T03:00:00.000000000Z",
          "2025-01-29T04:00:00.000000000Z",
          "2025-01-29T05:00:00.000000000Z",
          "2025-01-29T06:00:00.000000000Z",
          "2025-01-29T07:00:00.000000000Z",
          "2025-01-29T08:00:00.000000000Z",
          "2025-01-29T09:00:00.000000000Z",
          "2025-01-29T10:00:00.000000000Z",
          "2025-01-29T11:00:00.000000000Z",
          "2025-01-29T12:00:00.000000000Z",
          "2025-01-29T13:00:00.000000000Z",
          "2025-01-29T14:00:00.000000000Z",
          "2025-01-29T15:00:00.000000000Z",
          "2025-01-29T16:00:00.000000000Z",
          "2025-01-29T17:00:00.000000000Z",
          "2025-01-29T18:00:00.000000000Z",
          "2025-01-29T19:00:00.000000000Z",
          "2025-01-29T20:00:00.000000000Z",
          "2025-01-29T21:00:00.000000000Z",
          "2025-01-29T22:00:00.000000000Z",
          "2025-01-29T23:00:00.000000000Z",
          "2025-01-30T00:00:00.000000000Z",
          "2025-01-30T01:00:00.000000000Z",
          "2025-01-30T02:00:00.000000000Z",
          "2025-01-30T03:00:00.000000000Z",
          "2025-01-30T04:00:00.000000000Z",
          "2025-01-30T05:00:00.000000000Z",
          "2025-01-30T06:00:00.000000000Z",
          "2025-01-30T07:00:00.000000000Z",
          "2025-01-30T08:00:00.000000000Z",
          "2025-01-30T09:00:00.000000000Z",
          "2025-01-30T10:00:00.000000000Z",
          "2025-01-30T11:00:00.000000000Z",
          "2025-01-30T12:00:00.000000000Z",
          "2025-01-30T13:00:00.000000000Z",
          "2025-01-30T14:00:00.000000000Z",
          "2025-01-30T15:00:00.000000000Z",
          "2025-01-30T16:00:00.000000000Z",
          "2025-01-30T17:00:00.000000000Z",
          "2025-01-30T18:00:00.000000000Z",
          "2025-01-30T19:00:00.000000000Z",
          "2025-01-30T20:00:00.000000000Z",
          "2025-01-30T21:00:00.000000000Z",
          "2025-01-30T22:00:00.000000000Z",
          "2025-01-30T23:00:00.000000000Z",
          "2025-01-31T00:00:00.000000000Z",
          "2025-01-31T01:00:00.000000000Z",
          "2025-01-31T02:00:00.000000000Z",
          "2025-01-31T03:00:00.000000000Z",
          "2025-01-31T04:00:00.000000000Z",
          "2025-01-31T05:00:00.000000000Z",
          "2025-01-31T06:00:00.000000000Z",
          "2025-01-31T07:00:00.000000000Z",
          "2025-01-31T08:00:00.000000000Z",
          "2025-01-31T09:00:00.000000000Z",
          "2025-01-31T10:00:00.000000000Z",
          "2025-01-31T11:00:00.000000000Z",
          "2025-01-31T12:00:00.000000000Z",
          "2025-01-31T13:00:00.000000000Z",
          "2025-01-31T14:00:00.000000000Z",
          "2025-01-31T15:00:00.000000000Z",
          "2025-01-31T16:00:00.000000000Z",
          "2025-01-31T17:00:00.000000000Z",
          "2025-01-31T18:00:00.000000000Z",
          "2025-01-31T19:00:00.000000000Z",
          "2025-01-31T20:00:00.000000000Z",
          "2025-01-31T21:00:00.000000000Z",
          "2025-02-02T22:00:00.000000000Z",
          "2025-02-02T23:00:00.000000000Z",
          "2025-02-03T00:00:00.000000000Z",
          "2025-02-03T01:00:00.000000000Z",
          "2025-02-03T02:00:00.000000000Z",
          "2025-02-03T03:00:00.000000000Z",
          "2025-02-03T04:00:00.000000000Z",
          "2025-02-03T05:00:00.000000000Z",
          "2025-02-03T06:00:00.000000000Z",
          "2025-02-03T07:00:00.000000000Z",
          "2025-02-03T08:00:00.000000000Z",
          "2025-02-03T09:00:00.000000000Z",
          "2025-02-03T10:00:00.000000000Z",
          "2025-02-03T11:00:00.000000000Z",
          "2025-02-03T12:00:00.000000000Z",
          "2025-02-03T13:00:00.000000000Z",
          "2025-02-03T14:00:00.000000000Z",
          "2025-02-03T15:00:00.000000000Z",
          "2025-02-03T16:00:00.000000000Z",
          "2025-02-03T17:00:00.000000000Z",
          "2025-02-03T18:00:00.000000000Z",
          "2025-02-03T19:00:00.000000000Z",
          "2025-02-03T20:00:00.000000000Z",
          "2025-02-03T21:00:00.000000000Z",
          "2025-02-03T22:00:00.000000000Z",
          "2025-02-03T23:00:00.000000000Z",
          "2025-02-04T00:00:00.000000000Z",
          "2025-02-04T01:00:00.000000000Z",
          "2025-02-04T02:00:00.000000000Z"
         ]
        }
       ],
       "layout": {
        "font": {
         "color": "#e1e1e1",
         "size": 10
        },
        "height": 400,
        "margin": {
         "b": 10,
         "l": 10,
         "r": 10,
         "t": 10
        },
        "paper_bgcolor": "#1e1e1e",
        "plot_bgcolor": "#1e1e1e",
        "template": {
         "data": {
          "bar": [
           {
            "error_x": {
             "color": "#2a3f5f"
            },
            "error_y": {
             "color": "#2a3f5f"
            },
            "marker": {
             "line": {
              "color": "#E5ECF6",
              "width": 0.5
             },
             "pattern": {
              "fillmode": "overlay",
              "size": 10,
              "solidity": 0.2
             }
            },
            "type": "bar"
           }
          ],
          "barpolar": [
           {
            "marker": {
             "line": {
              "color": "#E5ECF6",
              "width": 0.5
             },
             "pattern": {
              "fillmode": "overlay",
              "size": 10,
              "solidity": 0.2
             }
            },
            "type": "barpolar"
           }
          ],
          "carpet": [
           {
            "aaxis": {
             "endlinecolor": "#2a3f5f",
             "gridcolor": "white",
             "linecolor": "white",
             "minorgridcolor": "white",
             "startlinecolor": "#2a3f5f"
            },
            "baxis": {
             "endlinecolor": "#2a3f5f",
             "gridcolor": "white",
             "linecolor": "white",
             "minorgridcolor": "white",
             "startlinecolor": "#2a3f5f"
            },
            "type": "carpet"
           }
          ],
          "choropleth": [
           {
            "colorbar": {
             "outlinewidth": 0,
             "ticks": ""
            },
            "type": "choropleth"
           }
          ],
          "contour": [
           {
            "colorbar": {
             "outlinewidth": 0,
             "ticks": ""
            },
            "colorscale": [
             [
              0,
              "#0d0887"
             ],
             [
              0.1111111111111111,
              "#46039f"
             ],
             [
              0.2222222222222222,
              "#7201a8"
             ],
             [
              0.3333333333333333,
              "#9c179e"
             ],
             [
              0.4444444444444444,
              "#bd3786"
             ],
             [
              0.5555555555555556,
              "#d8576b"
             ],
             [
              0.6666666666666666,
              "#ed7953"
             ],
             [
              0.7777777777777778,
              "#fb9f3a"
             ],
             [
              0.8888888888888888,
              "#fdca26"
             ],
             [
              1,
              "#f0f921"
             ]
            ],
            "type": "contour"
           }
          ],
          "contourcarpet": [
           {
            "colorbar": {
             "outlinewidth": 0,
             "ticks": ""
            },
            "type": "contourcarpet"
           }
          ],
          "heatmap": [
           {
            "colorbar": {
             "outlinewidth": 0,
             "ticks": ""
            },
            "colorscale": [
             [
              0,
              "#0d0887"
             ],
             [
              0.1111111111111111,
              "#46039f"
             ],
             [
              0.2222222222222222,
              "#7201a8"
             ],
             [
              0.3333333333333333,
              "#9c179e"
             ],
             [
              0.4444444444444444,
              "#bd3786"
             ],
             [
              0.5555555555555556,
              "#d8576b"
             ],
             [
              0.6666666666666666,
              "#ed7953"
             ],
             [
              0.7777777777777778,
              "#fb9f3a"
             ],
             [
              0.8888888888888888,
              "#fdca26"
             ],
             [
              1,
              "#f0f921"
             ]
            ],
            "type": "heatmap"
           }
          ],
          "histogram": [
           {
            "marker": {
             "pattern": {
              "fillmode": "overlay",
              "size": 10,
              "solidity": 0.2
             }
            },
            "type": "histogram"
           }
          ],
          "histogram2d": [
           {
            "colorbar": {
             "outlinewidth": 0,
             "ticks": ""
            },
            "colorscale": [
             [
              0,
              "#0d0887"
             ],
             [
              0.1111111111111111,
              "#46039f"
             ],
             [
              0.2222222222222222,
              "#7201a8"
             ],
             [
              0.3333333333333333,
              "#9c179e"
             ],
             [
              0.4444444444444444,
              "#bd3786"
             ],
             [
              0.5555555555555556,
              "#d8576b"
             ],
             [
              0.6666666666666666,
              "#ed7953"
             ],
             [
              0.7777777777777778,
              "#fb9f3a"
             ],
             [
              0.8888888888888888,
              "#fdca26"
             ],
             [
              1,
              "#f0f921"
             ]
            ],
            "type": "histogram2d"
           }
          ],
          "histogram2dcontour": [
           {
            "colorbar": {
             "outlinewidth": 0,
             "ticks": ""
            },
            "colorscale": [
             [
              0,
              "#0d0887"
             ],
             [
              0.1111111111111111,
              "#46039f"
             ],
             [
              0.2222222222222222,
              "#7201a8"
             ],
             [
              0.3333333333333333,
              "#9c179e"
             ],
             [
              0.4444444444444444,
              "#bd3786"
             ],
             [
              0.5555555555555556,
              "#d8576b"
             ],
             [
              0.6666666666666666,
              "#ed7953"
             ],
             [
              0.7777777777777778,
              "#fb9f3a"
             ],
             [
              0.8888888888888888,
              "#fdca26"
             ],
             [
              1,
              "#f0f921"
             ]
            ],
            "type": "histogram2dcontour"
           }
          ],
          "mesh3d": [
           {
            "colorbar": {
             "outlinewidth": 0,
             "ticks": ""
            },
            "type": "mesh3d"
           }
          ],
          "parcoords": [
           {
            "line": {
             "colorbar": {
              "outlinewidth": 0,
              "ticks": ""
             }
            },
            "type": "parcoords"
           }
          ],
          "pie": [
           {
            "automargin": true,
            "type": "pie"
           }
          ],
          "scatter": [
           {
            "fillpattern": {
             "fillmode": "overlay",
             "size": 10,
             "solidity": 0.2
            },
            "type": "scatter"
           }
          ],
          "scatter3d": [
           {
            "line": {
             "colorbar": {
              "outlinewidth": 0,
              "ticks": ""
             }
            },
            "marker": {
             "colorbar": {
              "outlinewidth": 0,
              "ticks": ""
             }
            },
            "type": "scatter3d"
           }
          ],
          "scattercarpet": [
           {
            "marker": {
             "colorbar": {
              "outlinewidth": 0,
              "ticks": ""
             }
            },
            "type": "scattercarpet"
           }
          ],
          "scattergeo": [
           {
            "marker": {
             "colorbar": {
              "outlinewidth": 0,
              "ticks": ""
             }
            },
            "type": "scattergeo"
           }
          ],
          "scattergl": [
           {
            "marker": {
             "colorbar": {
              "outlinewidth": 0,
              "ticks": ""
             }
            },
            "type": "scattergl"
           }
          ],
          "scattermap": [
           {
            "marker": {
             "colorbar": {
              "outlinewidth": 0,
              "ticks": ""
             }
            },
            "type": "scattermap"
           }
          ],
          "scattermapbox": [
           {
            "marker": {
             "colorbar": {
              "outlinewidth": 0,
              "ticks": ""
             }
            },
            "type": "scattermapbox"
           }
          ],
          "scatterpolar": [
           {
            "marker": {
             "colorbar": {
              "outlinewidth": 0,
              "ticks": ""
             }
            },
            "type": "scatterpolar"
           }
          ],
          "scatterpolargl": [
           {
            "marker": {
             "colorbar": {
              "outlinewidth": 0,
              "ticks": ""
             }
            },
            "type": "scatterpolargl"
           }
          ],
          "scatterternary": [
           {
            "marker": {
             "colorbar": {
              "outlinewidth": 0,
              "ticks": ""
             }
            },
            "type": "scatterternary"
           }
          ],
          "surface": [
           {
            "colorbar": {
             "outlinewidth": 0,
             "ticks": ""
            },
            "colorscale": [
             [
              0,
              "#0d0887"
             ],
             [
              0.1111111111111111,
              "#46039f"
             ],
             [
              0.2222222222222222,
              "#7201a8"
             ],
             [
              0.3333333333333333,
              "#9c179e"
             ],
             [
              0.4444444444444444,
              "#bd3786"
             ],
             [
              0.5555555555555556,
              "#d8576b"
             ],
             [
              0.6666666666666666,
              "#ed7953"
             ],
             [
              0.7777777777777778,
              "#fb9f3a"
             ],
             [
              0.8888888888888888,
              "#fdca26"
             ],
             [
              1,
              "#f0f921"
             ]
            ],
            "type": "surface"
           }
          ],
          "table": [
           {
            "cells": {
             "fill": {
              "color": "#EBF0F8"
             },
             "line": {
              "color": "white"
             }
            },
            "header": {
             "fill": {
              "color": "#C8D4E3"
             },
             "line": {
              "color": "white"
             }
            },
            "type": "table"
           }
          ]
         },
         "layout": {
          "annotationdefaults": {
           "arrowcolor": "#2a3f5f",
           "arrowhead": 0,
           "arrowwidth": 1
          },
          "autotypenumbers": "strict",
          "coloraxis": {
           "colorbar": {
            "outlinewidth": 0,
            "ticks": ""
           }
          },
          "colorscale": {
           "diverging": [
            [
             0,
             "#8e0152"
            ],
            [
             0.1,
             "#c51b7d"
            ],
            [
             0.2,
             "#de77ae"
            ],
            [
             0.3,
             "#f1b6da"
            ],
            [
             0.4,
             "#fde0ef"
            ],
            [
             0.5,
             "#f7f7f7"
            ],
            [
             0.6,
             "#e6f5d0"
            ],
            [
             0.7,
             "#b8e186"
            ],
            [
             0.8,
             "#7fbc41"
            ],
            [
             0.9,
             "#4d9221"
            ],
            [
             1,
             "#276419"
            ]
           ],
           "sequential": [
            [
             0,
             "#0d0887"
            ],
            [
             0.1111111111111111,
             "#46039f"
            ],
            [
             0.2222222222222222,
             "#7201a8"
            ],
            [
             0.3333333333333333,
             "#9c179e"
            ],
            [
             0.4444444444444444,
             "#bd3786"
            ],
            [
             0.5555555555555556,
             "#d8576b"
            ],
            [
             0.6666666666666666,
             "#ed7953"
            ],
            [
             0.7777777777777778,
             "#fb9f3a"
            ],
            [
             0.8888888888888888,
             "#fdca26"
            ],
            [
             1,
             "#f0f921"
            ]
           ],
           "sequentialminus": [
            [
             0,
             "#0d0887"
            ],
            [
             0.1111111111111111,
             "#46039f"
            ],
            [
             0.2222222222222222,
             "#7201a8"
            ],
            [
             0.3333333333333333,
             "#9c179e"
            ],
            [
             0.4444444444444444,
             "#bd3786"
            ],
            [
             0.5555555555555556,
             "#d8576b"
            ],
            [
             0.6666666666666666,
             "#ed7953"
            ],
            [
             0.7777777777777778,
             "#fb9f3a"
            ],
            [
             0.8888888888888888,
             "#fdca26"
            ],
            [
             1,
             "#f0f921"
            ]
           ]
          },
          "colorway": [
           "#636efa",
           "#EF553B",
           "#00cc96",
           "#ab63fa",
           "#FFA15A",
           "#19d3f3",
           "#FF6692",
           "#B6E880",
           "#FF97FF",
           "#FECB52"
          ],
          "font": {
           "color": "#2a3f5f"
          },
          "geo": {
           "bgcolor": "white",
           "lakecolor": "white",
           "landcolor": "#E5ECF6",
           "showlakes": true,
           "showland": true,
           "subunitcolor": "white"
          },
          "hoverlabel": {
           "align": "left"
          },
          "hovermode": "closest",
          "mapbox": {
           "style": "light"
          },
          "paper_bgcolor": "white",
          "plot_bgcolor": "#E5ECF6",
          "polar": {
           "angularaxis": {
            "gridcolor": "white",
            "linecolor": "white",
            "ticks": ""
           },
           "bgcolor": "#E5ECF6",
           "radialaxis": {
            "gridcolor": "white",
            "linecolor": "white",
            "ticks": ""
           }
          },
          "scene": {
           "xaxis": {
            "backgroundcolor": "#E5ECF6",
            "gridcolor": "white",
            "gridwidth": 2,
            "linecolor": "white",
            "showbackground": true,
            "ticks": "",
            "zerolinecolor": "white"
           },
           "yaxis": {
            "backgroundcolor": "#E5ECF6",
            "gridcolor": "white",
            "gridwidth": 2,
            "linecolor": "white",
            "showbackground": true,
            "ticks": "",
            "zerolinecolor": "white"
           },
           "zaxis": {
            "backgroundcolor": "#E5ECF6",
            "gridcolor": "white",
            "gridwidth": 2,
            "linecolor": "white",
            "showbackground": true,
            "ticks": "",
            "zerolinecolor": "white"
           }
          },
          "shapedefaults": {
           "line": {
            "color": "#2a3f5f"
           }
          },
          "ternary": {
           "aaxis": {
            "gridcolor": "white",
            "linecolor": "white",
            "ticks": ""
           },
           "baxis": {
            "gridcolor": "white",
            "linecolor": "white",
            "ticks": ""
           },
           "bgcolor": "#E5ECF6",
           "caxis": {
            "gridcolor": "white",
            "linecolor": "white",
            "ticks": ""
           }
          },
          "title": {
           "x": 0.05
          },
          "xaxis": {
           "automargin": true,
           "gridcolor": "white",
           "linecolor": "white",
           "ticks": "",
           "title": {
            "standoff": 15
           },
           "zerolinecolor": "white",
           "zerolinewidth": 2
          },
          "yaxis": {
           "automargin": true,
           "gridcolor": "white",
           "linecolor": "white",
           "ticks": "",
           "title": {
            "standoff": 15
           },
           "zerolinecolor": "white",
           "zerolinewidth": 2
          }
         }
        },
        "width": 1000,
        "xaxis": {
         "fixedrange": true,
         "gridcolor": "#1f292f",
         "rangeslider": {
          "visible": false
         },
         "showgrid": true
        },
        "yaxis": {
         "gridcolor": "#1f292f",
         "showgrid": true
        }
       }
      }
     },
     "metadata": {},
     "output_type": "display_data"
    }
   ],
   "source": [
    "fig = go.Figure()\n",
    "fig.add_trace(go.Candlestick(\n",
    "    x=df_plot.time, \n",
    "    open=df_plot.mid_o, \n",
    "    high=df_plot.mid_h, \n",
    "    low=df_plot.mid_l, \n",
    "    close=df_plot.mid_c,\n",
    "    line=dict(width=1),\n",
    "    opacity=1,\n",
    "    increasing_fillcolor=\"#24A06B\",\n",
    "    decreasing_fillcolor=\"#CC2E3C\",\n",
    "    increasing_line_color=\"#2EC886\",\n",
    "    decreasing_line_color=\"#FF3A4C\"\n",
    "))\n",
    "fig.update_layout(\n",
    "    width=1000, height=400,\n",
    "    font=dict(size=10, color=\"#e1e1e1\"),\n",
    "    margin=dict(l=10, r=10, b=10, t=10),\n",
    "    paper_bgcolor=\"#1e1e1e\",\n",
    "    plot_bgcolor=\"#1e1e1e\"\n",
    ")\n",
    "fig.update_xaxes(\n",
    "    gridcolor=\"#1f292f\",\n",
    "    showgrid=True, fixedrange=True, rangeslider=dict(visible=False)\n",
    ")\n",
    "fig.update_yaxes(\n",
    "    gridcolor=\"#1f292f\",\n",
    "    showgrid=True\n",
    ")\n",
    "fig.show()"
   ]
  }
 ],
 "metadata": {
  "kernelspec": {
   "display_name": "venv",
   "language": "python",
   "name": "python3"
  },
  "language_info": {
   "codemirror_mode": {
    "name": "ipython",
    "version": 3
   },
   "file_extension": ".py",
   "mimetype": "text/x-python",
   "name": "python",
   "nbconvert_exporter": "python",
   "pygments_lexer": "ipython3",
   "version": "3.10.12"
  }
 },
 "nbformat": 4,
 "nbformat_minor": 2
}
