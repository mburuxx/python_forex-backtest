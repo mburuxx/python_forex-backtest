{
 "cells": [
  {
   "cell_type": "markdown",
   "metadata": {},
   "source": [
    "## Forex Data Collection\n",
    "#### This notebook fetches historical forex candle data from the OANDA API, processes it into a structured format, and saves it in pickle files as currency pairs\n"
   ]
  },
  {
   "cell_type": "code",
   "execution_count": 1,
   "metadata": {},
   "outputs": [],
   "source": [
    "import requests\n",
    "import defs\n",
    "import pandas as pd"
   ]
  },
  {
   "cell_type": "code",
   "execution_count": 2,
   "metadata": {},
   "outputs": [],
   "source": [
    "session = requests.Session()"
   ]
  },
  {
   "cell_type": "code",
   "execution_count": null,
   "metadata": {},
   "outputs": [],
   "source": [
    "# Load available instruments from a pickle file\n",
    "ins_df = pd.read_pickle(\"instruments.pkl\")"
   ]
  },
  {
   "cell_type": "code",
   "execution_count": 4,
   "metadata": {},
   "outputs": [],
   "source": [
    "# List of currency codes to fetch data for\n",
    "currencies = ['EUR', 'USD', 'GBP', 'JYP', 'CHF', 'NZD', 'CAD']"
   ]
  },
  {
   "cell_type": "code",
   "execution_count": 5,
   "metadata": {},
   "outputs": [],
   "source": [
    "# Fetch Candlestick Data\n",
    "def fetch_candles(pair_name, count, granularity):\n",
    "    \"\"\"\n",
    "    Fetch historical candlestick data for a given currency pair.\n",
    "    \n",
    "    Parameters:\n",
    "    - pair_name (str): Currency pair (e.g., \"EUR_USD\")\n",
    "    - count (int): Number of candles to retrieve\n",
    "    - granularity (str): Timeframe (e.g., \"H1\" for 1-hour candles)\n",
    "\n",
    "    Returns:\n",
    "    - status_code (int): HTTP response status code\n",
    "    - json_response (dict): JSON response containing candle data\n",
    "    \"\"\"\n",
    "    url = f\"{defs.OANDA_URL}/instruments/{pair_name}/candles\"\n",
    "    params = dict(\n",
    "        count = count,\n",
    "        granularity = granularity,\n",
    "        price = \"MBA\"  # Mid, Bid, and Ask prices\n",
    "    )\n",
    "    response = session.get(url, params=params, headers=defs.SECURE_HEADER)\n",
    "    return response.status_code, response.json()"
   ]
  },
  {
   "cell_type": "code",
   "execution_count": 6,
   "metadata": {},
   "outputs": [
    {
     "data": {
      "text/plain": [
       "200"
      ]
     },
     "execution_count": 6,
     "metadata": {},
     "output_type": "execute_result"
    }
   ],
   "source": [
    "code, res = fetch_candles(\"EUR_USD\", 10, \"H1\")\n",
    "code"
   ]
  },
  {
   "cell_type": "code",
   "execution_count": 7,
   "metadata": {},
   "outputs": [],
   "source": [
    "# Convert JSON to DataFrame\n",
    "def get_candles_df(json_response):\n",
    "    \"\"\"\n",
    "    Convert JSON response of candle data into a pandas DataFrame.\n",
    "    \n",
    "    Parameters:\n",
    "    - json_response (dict): API response containing candle data\n",
    "    \n",
    "    Returns:\n",
    "    - pandas.DataFrame: Dataframe with OHLC and volume information\n",
    "    \"\"\"\n",
    "    prices = ['mid', 'bid', 'ask']  # Price types\n",
    "    ohlc = ['o', 'h', 'l', 'c']  # Open, High, Low, Close components\n",
    "\n",
    "    historical_data = []\n",
    "    for candle in json_response.get('candles', []): \n",
    "        if not candle.get('complete', False):  # Skip incomplete candles\n",
    "            continue \n",
    "\n",
    "        # Store time and volume\n",
    "        new_dict = {\n",
    "            'time': candle['time'], \n",
    "            'volume': candle['volume']\n",
    "        }\n",
    "\n",
    "        # Extract OHLC prices for each price type\n",
    "        for price in prices:\n",
    "            for oh in ohlc:\n",
    "                new_dict[f\"{price}_{oh}\"] = candle[price][oh]\n",
    "        \n",
    "        historical_data.append(new_dict)\n",
    "\n",
    "    return pd.DataFrame.from_dict(historical_data)"
   ]
  },
  {
   "cell_type": "code",
   "execution_count": 8,
   "metadata": {},
   "outputs": [],
   "source": [
    "# Save data to file\n",
    "def save_file(candles_df, pair, granularity):\n",
    "    \"\"\"\n",
    "    Save the processed candle data to a pickle file.\n",
    "    \n",
    "    Parameters:\n",
    "    - candles_df (pandas.DataFrame): Dataframe containing historical data\n",
    "    - pair (str): Currency pair\n",
    "    - granularity (str): Timeframe\n",
    "    \"\"\"\n",
    "    candles_df.to_pickle(f\"hist_data/{pair}_{granularity}.pkl\")"
   ]
  },
  {
   "cell_type": "code",
   "execution_count": 9,
   "metadata": {},
   "outputs": [],
   "source": [
    "# Fetch and store data\n",
    "def create_data(pair, granularity):\n",
    "    \"\"\"\n",
    "    Fetch, process, and store candlestick data for a given currency pair.\n",
    "\n",
    "    Parameters:\n",
    "    - pair (str): Currency pair\n",
    "    - granularity (str): Timeframe (e.g., \"H1\")\n",
    "\n",
    "    If the API request fails, an error message is printed.\n",
    "    \"\"\"\n",
    "    code, json_data = fetch_candles(pair, 4000, granularity)\n",
    "    if code != 200:\n",
    "        print(pair, \"Error\")\n",
    "        return\n",
    "\n",
    "    df = get_candles_df(json_data)  # Convert response to DataFrame\n",
    "    print(f\"{pair} loaded {df.shape[0]} candles from {df.time.min()} to {df.time.max()}\")\n",
    "    save_file(df, pair, granularity)"
   ]
  },
  {
   "cell_type": "code",
   "execution_count": 10,
   "metadata": {},
   "outputs": [
    {
     "name": "stdout",
     "output_type": "stream",
     "text": [
      "EUR_USD loaded 3999 candles from 2024-06-12T11:00:00.000000000Z to 2025-02-04T02:00:00.000000000Z\n",
      "EUR_GBP loaded 3999 candles from 2024-06-12T11:00:00.000000000Z to 2025-02-04T02:00:00.000000000Z\n",
      "EUR_CHF loaded 3999 candles from 2024-06-12T11:00:00.000000000Z to 2025-02-04T02:00:00.000000000Z\n",
      "EUR_NZD loaded 3999 candles from 2024-06-12T10:00:00.000000000Z to 2025-02-04T02:00:00.000000000Z\n",
      "EUR_CAD loaded 3999 candles from 2024-06-12T11:00:00.000000000Z to 2025-02-04T02:00:00.000000000Z\n",
      "USD_CHF loaded 3999 candles from 2024-06-12T11:00:00.000000000Z to 2025-02-04T02:00:00.000000000Z\n",
      "USD_CAD loaded 3999 candles from 2024-06-12T11:00:00.000000000Z to 2025-02-04T02:00:00.000000000Z\n",
      "GBP_USD loaded 3999 candles from 2024-06-12T11:00:00.000000000Z to 2025-02-04T02:00:00.000000000Z\n",
      "GBP_CHF loaded 3999 candles from 2024-06-12T11:00:00.000000000Z to 2025-02-04T02:00:00.000000000Z\n",
      "GBP_NZD loaded 3999 candles from 2024-06-12T09:00:00.000000000Z to 2025-02-04T02:00:00.000000000Z\n",
      "GBP_CAD loaded 3999 candles from 2024-06-12T11:00:00.000000000Z to 2025-02-04T02:00:00.000000000Z\n",
      "NZD_USD loaded 3999 candles from 2024-06-12T11:00:00.000000000Z to 2025-02-04T02:00:00.000000000Z\n",
      "NZD_CHF loaded 3999 candles from 2024-06-12T10:00:00.000000000Z to 2025-02-04T02:00:00.000000000Z\n",
      "NZD_CAD loaded 3999 candles from 2024-06-12T10:00:00.000000000Z to 2025-02-04T02:00:00.000000000Z\n",
      "CAD_CHF loaded 3999 candles from 2024-06-12T11:00:00.000000000Z to 2025-02-04T02:00:00.000000000Z\n"
     ]
    }
   ],
   "source": [
    "# Process All Currency Pairs\n",
    "for p1 in currencies:\n",
    "    for p2 in currencies:\n",
    "        pair = f\"{p1}_{p2}\"  # Construct currency pair name\n",
    "        if pair in ins_df.name.unique():  # Check if pair is available\n",
    "            create_data(pair, \"H1\")  # Fetch and save hourly candle data"
   ]
  }
 ],
 "metadata": {
  "kernelspec": {
   "display_name": "venv",
   "language": "python",
   "name": "python3"
  },
  "language_info": {
   "codemirror_mode": {
    "name": "ipython",
    "version": 3
   },
   "file_extension": ".py",
   "mimetype": "text/x-python",
   "name": "python",
   "nbconvert_exporter": "python",
   "pygments_lexer": "ipython3",
   "version": "3.10.12"
  }
 },
 "nbformat": 4,
 "nbformat_minor": 2
}
