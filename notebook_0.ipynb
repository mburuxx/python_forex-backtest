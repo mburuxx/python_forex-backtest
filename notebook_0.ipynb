{
 "cells": [
  {
   "cell_type": "markdown",
   "metadata": {},
   "source": [
    "## Fetching and Storing Tradable Instruments from OANDA API\n",
    "#### This Notebook retrieves a list of tradable instruments from OANDA, processes them, and saves them as a pickle file."
   ]
  },
  {
   "cell_type": "code",
   "execution_count": 1,
   "metadata": {},
   "outputs": [],
   "source": [
    "import requests\n",
    "import pandas as pd\n",
    "import defs"
   ]
  },
  {
   "cell_type": "code",
   "execution_count": 2,
   "metadata": {},
   "outputs": [],
   "source": [
    "# Initialize API Session\n",
    "session = requests.Session()"
   ]
  },
  {
   "cell_type": "code",
   "execution_count": 3,
   "metadata": {},
   "outputs": [],
   "source": [
    "# Define request parameters\n",
    "instrument = \"EUR_USD\"\n",
    "count = 10\n",
    "granularity = \"H1\""
   ]
  },
  {
   "cell_type": "code",
   "execution_count": 4,
   "metadata": {},
   "outputs": [],
   "source": [
    "# Construct API URL for fetching tradable instruments\n",
    "url = f\"{defs.OANDA_URL}/accounts/{defs.ACCOUNT_ID}/instruments\""
   ]
  },
  {
   "cell_type": "code",
   "execution_count": 5,
   "metadata": {},
   "outputs": [],
   "source": [
    "# Define query parameters\n",
    "params = dict(\n",
    "    count=count,\n",
    "    granularity=granularity,\n",
    "    price=\"MBA\"  # Mid, Bid, and Ask prices\n",
    ")\n"
   ]
  },
  {
   "cell_type": "code",
   "execution_count": null,
   "metadata": {},
   "outputs": [
    {
     "data": {
      "text/plain": [
       "200"
      ]
     },
     "execution_count": 6,
     "metadata": {},
     "output_type": "execute_result"
    }
   ],
   "source": [
    "# Send API request\n",
    "response = session.get(url, params=params, headers=defs.SECURE_HEADER)\n",
    "response.status_code"
   ]
  },
  {
   "cell_type": "code",
   "execution_count": 7,
   "metadata": {},
   "outputs": [],
   "source": [
    "# Process API response\n",
    "data = response.json()"
   ]
  },
  {
   "cell_type": "code",
   "execution_count": 8,
   "metadata": {},
   "outputs": [
    {
     "data": {
      "text/plain": [
       "dict_keys(['instruments', 'lastTransactionID'])"
      ]
     },
     "execution_count": 8,
     "metadata": {},
     "output_type": "execute_result"
    }
   ],
   "source": [
    "data.keys()"
   ]
  },
  {
   "cell_type": "code",
   "execution_count": 9,
   "metadata": {},
   "outputs": [],
   "source": [
    "# Extract list of instruments\n",
    "instruments = data['instruments']"
   ]
  },
  {
   "cell_type": "code",
   "execution_count": 10,
   "metadata": {},
   "outputs": [
    {
     "data": {
      "text/plain": [
       "68"
      ]
     },
     "execution_count": 10,
     "metadata": {},
     "output_type": "execute_result"
    }
   ],
   "source": [
    "len(instruments)"
   ]
  },
  {
   "cell_type": "code",
   "execution_count": 11,
   "metadata": {},
   "outputs": [
    {
     "name": "stdout",
     "output_type": "stream",
     "text": [
      "{'name': 'USD_HKD', 'type': 'CURRENCY', 'displayName': 'USD/HKD', 'pipLocation': -4, 'displayPrecision': 5, 'tradeUnitsPrecision': 0, 'minimumTradeSize': '1', 'maximumTrailingStopDistance': '1.00000', 'minimumTrailingStopDistance': '0.00050', 'maximumPositionSize': '0', 'maximumOrderUnits': '100000000', 'marginRate': '0.1', 'guaranteedStopLossOrderMode': 'DISABLED', 'tags': [{'type': 'BRAIN_ASSET_CLASS', 'name': 'FX'}, {'type': 'ASSET_CLASS', 'name': 'CURRENCY'}], 'financing': {'longRate': '-0.0106', 'shortRate': '-0.0199', 'financingDaysOfWeek': [{'dayOfWeek': 'MONDAY', 'daysCharged': 1}, {'dayOfWeek': 'TUESDAY', 'daysCharged': 1}, {'dayOfWeek': 'WEDNESDAY', 'daysCharged': 1}, {'dayOfWeek': 'THURSDAY', 'daysCharged': 1}, {'dayOfWeek': 'FRIDAY', 'daysCharged': 1}, {'dayOfWeek': 'SATURDAY', 'daysCharged': 0}, {'dayOfWeek': 'SUNDAY', 'daysCharged': 0}]}}\n",
      "{'name': 'CHF_ZAR', 'type': 'CURRENCY', 'displayName': 'CHF/ZAR', 'pipLocation': -4, 'displayPrecision': 5, 'tradeUnitsPrecision': 0, 'minimumTradeSize': '1', 'maximumTrailingStopDistance': '1.00000', 'minimumTrailingStopDistance': '0.00050', 'maximumPositionSize': '0', 'maximumOrderUnits': '100000000', 'marginRate': '0.07', 'guaranteedStopLossOrderMode': 'DISABLED', 'tags': [{'type': 'BRAIN_ASSET_CLASS', 'name': 'FX'}, {'type': 'ASSET_CLASS', 'name': 'CURRENCY'}], 'financing': {'longRate': '-0.1345', 'shortRate': '0.0108', 'financingDaysOfWeek': [{'dayOfWeek': 'MONDAY', 'daysCharged': 1}, {'dayOfWeek': 'TUESDAY', 'daysCharged': 1}, {'dayOfWeek': 'WEDNESDAY', 'daysCharged': 1}, {'dayOfWeek': 'THURSDAY', 'daysCharged': 1}, {'dayOfWeek': 'FRIDAY', 'daysCharged': 1}, {'dayOfWeek': 'SATURDAY', 'daysCharged': 0}, {'dayOfWeek': 'SUNDAY', 'daysCharged': 0}]}}\n",
      "{'name': 'EUR_ZAR', 'type': 'CURRENCY', 'displayName': 'EUR/ZAR', 'pipLocation': -4, 'displayPrecision': 5, 'tradeUnitsPrecision': 0, 'minimumTradeSize': '1', 'maximumTrailingStopDistance': '1.00000', 'minimumTrailingStopDistance': '0.00050', 'maximumPositionSize': '0', 'maximumOrderUnits': '100000000', 'marginRate': '0.07', 'guaranteedStopLossOrderMode': 'DISABLED', 'tags': [{'type': 'BRAIN_ASSET_CLASS', 'name': 'FX'}, {'type': 'ASSET_CLASS', 'name': 'CURRENCY'}], 'financing': {'longRate': '-0.11', 'shortRate': '-0.0131', 'financingDaysOfWeek': [{'dayOfWeek': 'MONDAY', 'daysCharged': 1}, {'dayOfWeek': 'TUESDAY', 'daysCharged': 1}, {'dayOfWeek': 'WEDNESDAY', 'daysCharged': 1}, {'dayOfWeek': 'THURSDAY', 'daysCharged': 1}, {'dayOfWeek': 'FRIDAY', 'daysCharged': 1}, {'dayOfWeek': 'SATURDAY', 'daysCharged': 0}, {'dayOfWeek': 'SUNDAY', 'daysCharged': 0}]}}\n",
      "{'name': 'AUD_JPY', 'type': 'CURRENCY', 'displayName': 'AUD/JPY', 'pipLocation': -2, 'displayPrecision': 3, 'tradeUnitsPrecision': 0, 'minimumTradeSize': '1', 'maximumTrailingStopDistance': '100.000', 'minimumTrailingStopDistance': '0.050', 'maximumPositionSize': '0', 'maximumOrderUnits': '100000000', 'marginRate': '0.05', 'guaranteedStopLossOrderMode': 'DISABLED', 'tags': [{'type': 'BRAIN_ASSET_CLASS', 'name': 'FX'}, {'type': 'ASSET_CLASS', 'name': 'CURRENCY'}], 'financing': {'longRate': '0.0321', 'shortRate': '-0.0532', 'financingDaysOfWeek': [{'dayOfWeek': 'MONDAY', 'daysCharged': 1}, {'dayOfWeek': 'TUESDAY', 'daysCharged': 1}, {'dayOfWeek': 'WEDNESDAY', 'daysCharged': 1}, {'dayOfWeek': 'THURSDAY', 'daysCharged': 1}, {'dayOfWeek': 'FRIDAY', 'daysCharged': 1}, {'dayOfWeek': 'SATURDAY', 'daysCharged': 0}, {'dayOfWeek': 'SUNDAY', 'daysCharged': 0}]}}\n",
      "{'name': 'AUD_USD', 'type': 'CURRENCY', 'displayName': 'AUD/USD', 'pipLocation': -4, 'displayPrecision': 5, 'tradeUnitsPrecision': 0, 'minimumTradeSize': '1', 'maximumTrailingStopDistance': '1.00000', 'minimumTrailingStopDistance': '0.00050', 'maximumPositionSize': '0', 'maximumOrderUnits': '100000000', 'marginRate': '0.03', 'guaranteedStopLossOrderMode': 'DISABLED', 'tags': [{'type': 'BRAIN_ASSET_CLASS', 'name': 'FX'}, {'type': 'ASSET_CLASS', 'name': 'CURRENCY'}], 'financing': {'longRate': '-0.0108', 'shortRate': '-0.0097', 'financingDaysOfWeek': [{'dayOfWeek': 'MONDAY', 'daysCharged': 1}, {'dayOfWeek': 'TUESDAY', 'daysCharged': 1}, {'dayOfWeek': 'WEDNESDAY', 'daysCharged': 1}, {'dayOfWeek': 'THURSDAY', 'daysCharged': 1}, {'dayOfWeek': 'FRIDAY', 'daysCharged': 1}, {'dayOfWeek': 'SATURDAY', 'daysCharged': 0}, {'dayOfWeek': 'SUNDAY', 'daysCharged': 0}]}}\n"
     ]
    }
   ],
   "source": [
    "# Inspect instruments\n",
    "for item in instruments[:5]:\n",
    "    print(item)"
   ]
  },
  {
   "cell_type": "code",
   "execution_count": 12,
   "metadata": {},
   "outputs": [
    {
     "data": {
      "text/plain": [
       "dict_keys(['name', 'type', 'displayName', 'pipLocation', 'displayPrecision', 'tradeUnitsPrecision', 'minimumTradeSize', 'maximumTrailingStopDistance', 'minimumTrailingStopDistance', 'maximumPositionSize', 'maximumOrderUnits', 'marginRate', 'guaranteedStopLossOrderMode', 'tags', 'financing'])"
      ]
     },
     "execution_count": 12,
     "metadata": {},
     "output_type": "execute_result"
    }
   ],
   "source": [
    "instruments[0].keys()"
   ]
  },
  {
   "cell_type": "code",
   "execution_count": 13,
   "metadata": {},
   "outputs": [],
   "source": [
    "# Store API data in a structured format\n",
    "instruments_data = []\n",
    "for item in instruments:\n",
    "    new_ob = dict(\n",
    "        name = item['name'],\n",
    "        type = item['type'],\n",
    "        displayName = item['displayName'],\n",
    "        pipLocation = item['pipLocation'],\n",
    "        marginRate = item['marginRate']\n",
    "    )\n",
    "    instruments_data.append(new_ob)"
   ]
  },
  {
   "cell_type": "code",
   "execution_count": 14,
   "metadata": {},
   "outputs": [
    {
     "name": "stdout",
     "output_type": "stream",
     "text": [
      "{'name': 'USD_HKD', 'type': 'CURRENCY', 'displayName': 'USD/HKD', 'pipLocation': -4, 'marginRate': '0.1'}\n",
      "{'name': 'CHF_ZAR', 'type': 'CURRENCY', 'displayName': 'CHF/ZAR', 'pipLocation': -4, 'marginRate': '0.07'}\n",
      "{'name': 'EUR_ZAR', 'type': 'CURRENCY', 'displayName': 'EUR/ZAR', 'pipLocation': -4, 'marginRate': '0.07'}\n",
      "{'name': 'AUD_JPY', 'type': 'CURRENCY', 'displayName': 'AUD/JPY', 'pipLocation': -2, 'marginRate': '0.05'}\n",
      "{'name': 'AUD_USD', 'type': 'CURRENCY', 'displayName': 'AUD/USD', 'pipLocation': -4, 'marginRate': '0.03'}\n"
     ]
    }
   ],
   "source": [
    "for item in instruments_data[:5]:\n",
    "    print(item)"
   ]
  },
  {
   "cell_type": "code",
   "execution_count": 15,
   "metadata": {},
   "outputs": [],
   "source": [
    "# Convert to dataframe\n",
    "instrument_df = pd.DataFrame.from_dict(instruments_data)"
   ]
  },
  {
   "cell_type": "code",
   "execution_count": 16,
   "metadata": {},
   "outputs": [
    {
     "data": {
      "text/html": [
       "<div>\n",
       "<style scoped>\n",
       "    .dataframe tbody tr th:only-of-type {\n",
       "        vertical-align: middle;\n",
       "    }\n",
       "\n",
       "    .dataframe tbody tr th {\n",
       "        vertical-align: top;\n",
       "    }\n",
       "\n",
       "    .dataframe thead th {\n",
       "        text-align: right;\n",
       "    }\n",
       "</style>\n",
       "<table border=\"1\" class=\"dataframe\">\n",
       "  <thead>\n",
       "    <tr style=\"text-align: right;\">\n",
       "      <th></th>\n",
       "      <th>name</th>\n",
       "      <th>type</th>\n",
       "      <th>displayName</th>\n",
       "      <th>pipLocation</th>\n",
       "      <th>marginRate</th>\n",
       "    </tr>\n",
       "  </thead>\n",
       "  <tbody>\n",
       "    <tr>\n",
       "      <th>0</th>\n",
       "      <td>USD_HKD</td>\n",
       "      <td>CURRENCY</td>\n",
       "      <td>USD/HKD</td>\n",
       "      <td>-4</td>\n",
       "      <td>0.1</td>\n",
       "    </tr>\n",
       "    <tr>\n",
       "      <th>1</th>\n",
       "      <td>CHF_ZAR</td>\n",
       "      <td>CURRENCY</td>\n",
       "      <td>CHF/ZAR</td>\n",
       "      <td>-4</td>\n",
       "      <td>0.07</td>\n",
       "    </tr>\n",
       "    <tr>\n",
       "      <th>2</th>\n",
       "      <td>EUR_ZAR</td>\n",
       "      <td>CURRENCY</td>\n",
       "      <td>EUR/ZAR</td>\n",
       "      <td>-4</td>\n",
       "      <td>0.07</td>\n",
       "    </tr>\n",
       "    <tr>\n",
       "      <th>3</th>\n",
       "      <td>AUD_JPY</td>\n",
       "      <td>CURRENCY</td>\n",
       "      <td>AUD/JPY</td>\n",
       "      <td>-2</td>\n",
       "      <td>0.05</td>\n",
       "    </tr>\n",
       "    <tr>\n",
       "      <th>4</th>\n",
       "      <td>AUD_USD</td>\n",
       "      <td>CURRENCY</td>\n",
       "      <td>AUD/USD</td>\n",
       "      <td>-4</td>\n",
       "      <td>0.03</td>\n",
       "    </tr>\n",
       "  </tbody>\n",
       "</table>\n",
       "</div>"
      ],
      "text/plain": [
       "      name      type displayName  pipLocation marginRate\n",
       "0  USD_HKD  CURRENCY     USD/HKD           -4        0.1\n",
       "1  CHF_ZAR  CURRENCY     CHF/ZAR           -4       0.07\n",
       "2  EUR_ZAR  CURRENCY     EUR/ZAR           -4       0.07\n",
       "3  AUD_JPY  CURRENCY     AUD/JPY           -2       0.05\n",
       "4  AUD_USD  CURRENCY     AUD/USD           -4       0.03"
      ]
     },
     "execution_count": 16,
     "metadata": {},
     "output_type": "execute_result"
    }
   ],
   "source": [
    "instrument_df.head()"
   ]
  },
  {
   "cell_type": "code",
   "execution_count": 17,
   "metadata": {},
   "outputs": [],
   "source": [
    "# Save data to pickle file\n",
    "instrument_df.to_pickle(\"instruments.pkl\")"
   ]
  }
 ],
 "metadata": {
  "kernelspec": {
   "display_name": "venv",
   "language": "python",
   "name": "python3"
  },
  "language_info": {
   "codemirror_mode": {
    "name": "ipython",
    "version": 3
   },
   "file_extension": ".py",
   "mimetype": "text/x-python",
   "name": "python",
   "nbconvert_exporter": "python",
   "pygments_lexer": "ipython3",
   "version": "3.10.12"
  }
 },
 "nbformat": 4,
 "nbformat_minor": 2
}
