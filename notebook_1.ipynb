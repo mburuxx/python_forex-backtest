{
 "cells": [
  {
   "cell_type": "markdown",
   "metadata": {},
   "source": [
    "## This notebook is useful in obtaining **Historical Candle Data** and storing OHCL data for later use"
   ]
  },
  {
   "cell_type": "code",
   "execution_count": 1,
   "metadata": {},
   "outputs": [],
   "source": [
    "import requests\n",
    "import pandas as pd\n",
    "import defs"
   ]
  },
  {
   "cell_type": "code",
   "execution_count": 2,
   "metadata": {},
   "outputs": [],
   "source": [
    "# Create a session for making HTTP requests\n",
    "session = requests.Session()"
   ]
  },
  {
   "cell_type": "code",
   "execution_count": 3,
   "metadata": {},
   "outputs": [],
   "source": [
    "# Define trading instrument, data count, and granularity\n",
    "instrument = \"EUR_USD\"\n",
    "count = 10\n",
    "granularity = \"H1\""
   ]
  },
  {
   "cell_type": "code",
   "execution_count": 4,
   "metadata": {},
   "outputs": [],
   "source": [
    "# Construct API URL for fetching historical data and print url\n",
    "url = f\"{defs.OANDA_URL}/instruments/{instrument}/candles\""
   ]
  },
  {
   "cell_type": "code",
   "execution_count": 5,
   "metadata": {},
   "outputs": [],
   "source": [
    "# Define request parameters\n",
    "params = dict(\n",
    "    count=count,\n",
    "    granularity=granularity,\n",
    "    price=\"MBA\"  # Mid, Bid, and Ask prices\n",
    ")"
   ]
  },
  {
   "cell_type": "code",
   "execution_count": 6,
   "metadata": {},
   "outputs": [
    {
     "data": {
      "text/plain": [
       "200"
      ]
     },
     "execution_count": 6,
     "metadata": {},
     "output_type": "execute_result"
    }
   ],
   "source": [
    "# Make GET request with parameters and authentication headers\n",
    "response = session.get(url, params=params, headers=defs.SECURE_HEADER)\n",
    "response.status_code"
   ]
  },
  {
   "cell_type": "code",
   "execution_count": 7,
   "metadata": {},
   "outputs": [],
   "source": [
    "# Ensure the response is valid before processing data\n",
    "if response.status_code != 200:\n",
    "    print(\"Error fetching data:\", response.text)"
   ]
  },
  {
   "cell_type": "code",
   "execution_count": 8,
   "metadata": {},
   "outputs": [
    {
     "data": {
      "text/plain": [
       "dict_keys(['instrument', 'granularity', 'candles'])"
      ]
     },
     "execution_count": 8,
     "metadata": {},
     "output_type": "execute_result"
    }
   ],
   "source": [
    "# Convert response to JSON\n",
    "data = response.json()\n",
    "data.keys()"
   ]
  },
  {
   "cell_type": "code",
   "execution_count": 9,
   "metadata": {},
   "outputs": [],
   "source": [
    "# Define price types and OHLC (Open, High, Low, Close) components\n",
    "prices = ['mid', 'bid', 'ask']\n",
    "ohlc = ['o', 'h', 'l', 'c']"
   ]
  },
  {
   "cell_type": "code",
   "execution_count": 10,
   "metadata": {},
   "outputs": [
    {
     "name": "stdout",
     "output_type": "stream",
     "text": [
      "mid_o\n",
      "mid_h\n",
      "mid_l\n",
      "mid_c\n",
      "bid_o\n",
      "bid_h\n",
      "bid_l\n",
      "bid_c\n",
      "ask_o\n",
      "ask_h\n",
      "ask_l\n",
      "ask_c\n"
     ]
    }
   ],
   "source": [
    "# Print formatted column\n",
    "for price in prices:\n",
    "    for oh in ohlc:\n",
    "        print(f\"{price}_{oh}\")"
   ]
  },
  {
   "cell_type": "code",
   "execution_count": 11,
   "metadata": {},
   "outputs": [],
   "source": [
    "# Initialize list for storing structured historical data\n",
    "historical_data = []\n",
    "for candle in data.get('candles', []): \n",
    "    if not candle.get('complete', False):\n",
    "        continue \n",
    "\n",
    "    # Create a dictionary for storing candle data\n",
    "    new_dict = {\n",
    "        'time': candle['time'], \n",
    "        'volume': candle['volume']\n",
    "    }\n",
    "\n",
    "    # Extract price data for each price type and OHLC component\n",
    "    for price in prices:\n",
    "        for oh in ohlc:\n",
    "            new_dict[f\"{price}_{oh}\"] = candle[price][oh]\n",
    "\n",
    "    historical_data.append(new_dict)"
   ]
  },
  {
   "cell_type": "code",
   "execution_count": 12,
   "metadata": {},
   "outputs": [],
   "source": [
    "# Convert list of dictionaries to a Pandas DataFrame\n",
    "candles_df = pd.DataFrame.from_dict(historical_data)"
   ]
  },
  {
   "cell_type": "code",
   "execution_count": 13,
   "metadata": {},
   "outputs": [],
   "source": [
    "# Save DataFrame as a pickle file for later use\n",
    "candles_df.to_pickle(\"EUR_USD_H1.pkl\")"
   ]
  },
  {
   "cell_type": "code",
   "execution_count": 14,
   "metadata": {},
   "outputs": [
    {
     "data": {
      "text/html": [
       "<div>\n",
       "<style scoped>\n",
       "    .dataframe tbody tr th:only-of-type {\n",
       "        vertical-align: middle;\n",
       "    }\n",
       "\n",
       "    .dataframe tbody tr th {\n",
       "        vertical-align: top;\n",
       "    }\n",
       "\n",
       "    .dataframe thead th {\n",
       "        text-align: right;\n",
       "    }\n",
       "</style>\n",
       "<table border=\"1\" class=\"dataframe\">\n",
       "  <thead>\n",
       "    <tr style=\"text-align: right;\">\n",
       "      <th></th>\n",
       "      <th>time</th>\n",
       "      <th>volume</th>\n",
       "      <th>mid_o</th>\n",
       "      <th>mid_h</th>\n",
       "      <th>mid_l</th>\n",
       "      <th>mid_c</th>\n",
       "      <th>bid_o</th>\n",
       "      <th>bid_h</th>\n",
       "      <th>bid_l</th>\n",
       "      <th>bid_c</th>\n",
       "      <th>ask_o</th>\n",
       "      <th>ask_h</th>\n",
       "      <th>ask_l</th>\n",
       "      <th>ask_c</th>\n",
       "    </tr>\n",
       "  </thead>\n",
       "  <tbody>\n",
       "    <tr>\n",
       "      <th>0</th>\n",
       "      <td>2025-02-03T18:00:00.000000000Z</td>\n",
       "      <td>12839</td>\n",
       "      <td>1.02795</td>\n",
       "      <td>1.02880</td>\n",
       "      <td>1.02700</td>\n",
       "      <td>1.02785</td>\n",
       "      <td>1.02787</td>\n",
       "      <td>1.02871</td>\n",
       "      <td>1.02692</td>\n",
       "      <td>1.02777</td>\n",
       "      <td>1.02803</td>\n",
       "      <td>1.02889</td>\n",
       "      <td>1.02707</td>\n",
       "      <td>1.02793</td>\n",
       "    </tr>\n",
       "    <tr>\n",
       "      <th>1</th>\n",
       "      <td>2025-02-03T19:00:00.000000000Z</td>\n",
       "      <td>6274</td>\n",
       "      <td>1.02785</td>\n",
       "      <td>1.02972</td>\n",
       "      <td>1.02785</td>\n",
       "      <td>1.02846</td>\n",
       "      <td>1.02778</td>\n",
       "      <td>1.02964</td>\n",
       "      <td>1.02778</td>\n",
       "      <td>1.02838</td>\n",
       "      <td>1.02792</td>\n",
       "      <td>1.02980</td>\n",
       "      <td>1.02792</td>\n",
       "      <td>1.02854</td>\n",
       "    </tr>\n",
       "    <tr>\n",
       "      <th>2</th>\n",
       "      <td>2025-02-03T20:00:00.000000000Z</td>\n",
       "      <td>5199</td>\n",
       "      <td>1.02848</td>\n",
       "      <td>1.02995</td>\n",
       "      <td>1.02827</td>\n",
       "      <td>1.02956</td>\n",
       "      <td>1.02841</td>\n",
       "      <td>1.02987</td>\n",
       "      <td>1.02820</td>\n",
       "      <td>1.02948</td>\n",
       "      <td>1.02855</td>\n",
       "      <td>1.03003</td>\n",
       "      <td>1.02834</td>\n",
       "      <td>1.02963</td>\n",
       "    </tr>\n",
       "    <tr>\n",
       "      <th>3</th>\n",
       "      <td>2025-02-03T21:00:00.000000000Z</td>\n",
       "      <td>13309</td>\n",
       "      <td>1.02954</td>\n",
       "      <td>1.03502</td>\n",
       "      <td>1.02928</td>\n",
       "      <td>1.03428</td>\n",
       "      <td>1.02946</td>\n",
       "      <td>1.03495</td>\n",
       "      <td>1.02921</td>\n",
       "      <td>1.03418</td>\n",
       "      <td>1.02963</td>\n",
       "      <td>1.03509</td>\n",
       "      <td>1.02935</td>\n",
       "      <td>1.03439</td>\n",
       "    </tr>\n",
       "    <tr>\n",
       "      <th>4</th>\n",
       "      <td>2025-02-03T22:00:00.000000000Z</td>\n",
       "      <td>1533</td>\n",
       "      <td>1.03380</td>\n",
       "      <td>1.03482</td>\n",
       "      <td>1.03353</td>\n",
       "      <td>1.03433</td>\n",
       "      <td>1.03336</td>\n",
       "      <td>1.03462</td>\n",
       "      <td>1.03311</td>\n",
       "      <td>1.03415</td>\n",
       "      <td>1.03424</td>\n",
       "      <td>1.03501</td>\n",
       "      <td>1.03384</td>\n",
       "      <td>1.03451</td>\n",
       "    </tr>\n",
       "    <tr>\n",
       "      <th>5</th>\n",
       "      <td>2025-02-03T23:00:00.000000000Z</td>\n",
       "      <td>5470</td>\n",
       "      <td>1.03427</td>\n",
       "      <td>1.03521</td>\n",
       "      <td>1.03265</td>\n",
       "      <td>1.03281</td>\n",
       "      <td>1.03408</td>\n",
       "      <td>1.03512</td>\n",
       "      <td>1.03258</td>\n",
       "      <td>1.03273</td>\n",
       "      <td>1.03446</td>\n",
       "      <td>1.03530</td>\n",
       "      <td>1.03272</td>\n",
       "      <td>1.03289</td>\n",
       "    </tr>\n",
       "    <tr>\n",
       "      <th>6</th>\n",
       "      <td>2025-02-04T00:00:00.000000000Z</td>\n",
       "      <td>4523</td>\n",
       "      <td>1.03284</td>\n",
       "      <td>1.03312</td>\n",
       "      <td>1.03162</td>\n",
       "      <td>1.03179</td>\n",
       "      <td>1.03275</td>\n",
       "      <td>1.03304</td>\n",
       "      <td>1.03154</td>\n",
       "      <td>1.03171</td>\n",
       "      <td>1.03292</td>\n",
       "      <td>1.03319</td>\n",
       "      <td>1.03170</td>\n",
       "      <td>1.03187</td>\n",
       "    </tr>\n",
       "    <tr>\n",
       "      <th>7</th>\n",
       "      <td>2025-02-04T01:00:00.000000000Z</td>\n",
       "      <td>6341</td>\n",
       "      <td>1.03178</td>\n",
       "      <td>1.03228</td>\n",
       "      <td>1.03085</td>\n",
       "      <td>1.03220</td>\n",
       "      <td>1.03171</td>\n",
       "      <td>1.03220</td>\n",
       "      <td>1.03076</td>\n",
       "      <td>1.03212</td>\n",
       "      <td>1.03186</td>\n",
       "      <td>1.03235</td>\n",
       "      <td>1.03093</td>\n",
       "      <td>1.03228</td>\n",
       "    </tr>\n",
       "    <tr>\n",
       "      <th>8</th>\n",
       "      <td>2025-02-04T02:00:00.000000000Z</td>\n",
       "      <td>5450</td>\n",
       "      <td>1.03220</td>\n",
       "      <td>1.03240</td>\n",
       "      <td>1.03166</td>\n",
       "      <td>1.03222</td>\n",
       "      <td>1.03213</td>\n",
       "      <td>1.03233</td>\n",
       "      <td>1.03158</td>\n",
       "      <td>1.03213</td>\n",
       "      <td>1.03228</td>\n",
       "      <td>1.03249</td>\n",
       "      <td>1.03174</td>\n",
       "      <td>1.03230</td>\n",
       "    </tr>\n",
       "  </tbody>\n",
       "</table>\n",
       "</div>"
      ],
      "text/plain": [
       "                             time  volume    mid_o    mid_h    mid_l    mid_c  \\\n",
       "0  2025-02-03T18:00:00.000000000Z   12839  1.02795  1.02880  1.02700  1.02785   \n",
       "1  2025-02-03T19:00:00.000000000Z    6274  1.02785  1.02972  1.02785  1.02846   \n",
       "2  2025-02-03T20:00:00.000000000Z    5199  1.02848  1.02995  1.02827  1.02956   \n",
       "3  2025-02-03T21:00:00.000000000Z   13309  1.02954  1.03502  1.02928  1.03428   \n",
       "4  2025-02-03T22:00:00.000000000Z    1533  1.03380  1.03482  1.03353  1.03433   \n",
       "5  2025-02-03T23:00:00.000000000Z    5470  1.03427  1.03521  1.03265  1.03281   \n",
       "6  2025-02-04T00:00:00.000000000Z    4523  1.03284  1.03312  1.03162  1.03179   \n",
       "7  2025-02-04T01:00:00.000000000Z    6341  1.03178  1.03228  1.03085  1.03220   \n",
       "8  2025-02-04T02:00:00.000000000Z    5450  1.03220  1.03240  1.03166  1.03222   \n",
       "\n",
       "     bid_o    bid_h    bid_l    bid_c    ask_o    ask_h    ask_l    ask_c  \n",
       "0  1.02787  1.02871  1.02692  1.02777  1.02803  1.02889  1.02707  1.02793  \n",
       "1  1.02778  1.02964  1.02778  1.02838  1.02792  1.02980  1.02792  1.02854  \n",
       "2  1.02841  1.02987  1.02820  1.02948  1.02855  1.03003  1.02834  1.02963  \n",
       "3  1.02946  1.03495  1.02921  1.03418  1.02963  1.03509  1.02935  1.03439  \n",
       "4  1.03336  1.03462  1.03311  1.03415  1.03424  1.03501  1.03384  1.03451  \n",
       "5  1.03408  1.03512  1.03258  1.03273  1.03446  1.03530  1.03272  1.03289  \n",
       "6  1.03275  1.03304  1.03154  1.03171  1.03292  1.03319  1.03170  1.03187  \n",
       "7  1.03171  1.03220  1.03076  1.03212  1.03186  1.03235  1.03093  1.03228  \n",
       "8  1.03213  1.03233  1.03158  1.03213  1.03228  1.03249  1.03174  1.03230  "
      ]
     },
     "execution_count": 14,
     "metadata": {},
     "output_type": "execute_result"
    }
   ],
   "source": [
    "# Load the saved pickle file to verify data persistence\n",
    "test_data = pd.read_pickle(\"EUR_USD_H1.pkl\")\n",
    "test_data"
   ]
  }
 ],
 "metadata": {
  "kernelspec": {
   "display_name": "venv",
   "language": "python",
   "name": "python3"
  },
  "language_info": {
   "codemirror_mode": {
    "name": "ipython",
    "version": 3
   },
   "file_extension": ".py",
   "mimetype": "text/x-python",
   "name": "python",
   "nbconvert_exporter": "python",
   "pygments_lexer": "ipython3",
   "version": "3.10.12"
  }
 },
 "nbformat": 4,
 "nbformat_minor": 2
}
