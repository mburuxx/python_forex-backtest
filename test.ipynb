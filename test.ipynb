{
 "cells": [
  {
   "cell_type": "code",
   "execution_count": 2,
   "metadata": {},
   "outputs": [],
   "source": [
    "import requests\n",
    "import pandas as pd\n",
    "import defs"
   ]
  },
  {
   "cell_type": "code",
   "execution_count": 3,
   "metadata": {},
   "outputs": [],
   "source": [
    "session = requests.Session()"
   ]
  },
  {
   "cell_type": "code",
   "execution_count": 4,
   "metadata": {},
   "outputs": [],
   "source": [
    "instrument = \"EUR_USD\"\n",
    "count = 10\n",
    "granularity = \"H1\""
   ]
  },
  {
   "cell_type": "code",
   "execution_count": 5,
   "metadata": {},
   "outputs": [
    {
     "data": {
      "text/plain": [
       "'https://api-fxpractice.oanda.com/v3/instruments/EUR_USD/candles'"
      ]
     },
     "execution_count": 5,
     "metadata": {},
     "output_type": "execute_result"
    }
   ],
   "source": [
    "url = f\"{defs.OANDA_URL}/instruments/{instrument}/candles\"\n",
    "url"
   ]
  },
  {
   "cell_type": "code",
   "execution_count": 6,
   "metadata": {},
   "outputs": [
    {
     "data": {
      "text/plain": [
       "{'count': 10, 'granularity': 'H1', 'price': 'MBA'}"
      ]
     },
     "execution_count": 6,
     "metadata": {},
     "output_type": "execute_result"
    }
   ],
   "source": [
    "params = dict(\n",
    "    count = count,\n",
    "    granularity = granularity,\n",
    "    price = \"MBA\"\n",
    ")\n",
    "params"
   ]
  },
  {
   "cell_type": "code",
   "execution_count": 7,
   "metadata": {},
   "outputs": [
    {
     "data": {
      "text/plain": [
       "200"
      ]
     },
     "execution_count": 7,
     "metadata": {},
     "output_type": "execute_result"
    }
   ],
   "source": [
    "response = session.get(url, params=params, headers=defs.SECURE_HEADER)\n",
    "response.status_code"
   ]
  },
  {
   "cell_type": "code",
   "execution_count": 8,
   "metadata": {},
   "outputs": [
    {
     "data": {
      "text/plain": [
       "{'instrument': 'EUR_USD',\n",
       " 'granularity': 'H1',\n",
       " 'candles': [{'complete': True,\n",
       "   'volume': 20585,\n",
       "   'time': '2025-01-30T14:00:00.000000000Z',\n",
       "   'bid': {'o': '1.04555', 'h': '1.04670', 'l': '1.04186', 'c': '1.04274'},\n",
       "   'mid': {'o': '1.04563', 'h': '1.04678', 'l': '1.04194', 'c': '1.04282'},\n",
       "   'ask': {'o': '1.04571', 'h': '1.04686', 'l': '1.04201', 'c': '1.04290'}},\n",
       "  {'complete': True,\n",
       "   'volume': 12999,\n",
       "   'time': '2025-01-30T15:00:00.000000000Z',\n",
       "   'bid': {'o': '1.04279', 'h': '1.04418', 'l': '1.04262', 'c': '1.04306'},\n",
       "   'mid': {'o': '1.04286', 'h': '1.04425', 'l': '1.04270', 'c': '1.04313'},\n",
       "   'ask': {'o': '1.04293', 'h': '1.04433', 'l': '1.04277', 'c': '1.04320'}},\n",
       "  {'complete': True,\n",
       "   'volume': 8326,\n",
       "   'time': '2025-01-30T16:00:00.000000000Z',\n",
       "   'bid': {'o': '1.04306', 'h': '1.04340', 'l': '1.04162', 'c': '1.04188'},\n",
       "   'mid': {'o': '1.04314', 'h': '1.04348', 'l': '1.04170', 'c': '1.04196'},\n",
       "   'ask': {'o': '1.04321', 'h': '1.04356', 'l': '1.04178', 'c': '1.04204'}},\n",
       "  {'complete': True,\n",
       "   'volume': 6903,\n",
       "   'time': '2025-01-30T17:00:00.000000000Z',\n",
       "   'bid': {'o': '1.04186', 'h': '1.04228', 'l': '1.04086', 'c': '1.04165'},\n",
       "   'mid': {'o': '1.04193', 'h': '1.04236', 'l': '1.04094', 'c': '1.04172'},\n",
       "   'ask': {'o': '1.04200', 'h': '1.04244', 'l': '1.04103', 'c': '1.04180'}},\n",
       "  {'complete': True,\n",
       "   'volume': 3953,\n",
       "   'time': '2025-01-30T18:00:00.000000000Z',\n",
       "   'bid': {'o': '1.04164', 'h': '1.04249', 'l': '1.04149', 'c': '1.04244'},\n",
       "   'mid': {'o': '1.04172', 'h': '1.04256', 'l': '1.04158', 'c': '1.04252'},\n",
       "   'ask': {'o': '1.04180', 'h': '1.04264', 'l': '1.04166', 'c': '1.04259'}},\n",
       "  {'complete': True,\n",
       "   'volume': 2926,\n",
       "   'time': '2025-01-30T19:00:00.000000000Z',\n",
       "   'bid': {'o': '1.04245', 'h': '1.04295', 'l': '1.04223', 'c': '1.04274'},\n",
       "   'mid': {'o': '1.04252', 'h': '1.04303', 'l': '1.04231', 'c': '1.04282'},\n",
       "   'ask': {'o': '1.04259', 'h': '1.04311', 'l': '1.04239', 'c': '1.04289'}},\n",
       "  {'complete': True,\n",
       "   'volume': 18272,\n",
       "   'time': '2025-01-30T20:00:00.000000000Z',\n",
       "   'bid': {'o': '1.04276', 'h': '1.04316', 'l': '1.03854', 'c': '1.04066'},\n",
       "   'mid': {'o': '1.04283', 'h': '1.04324', 'l': '1.03862', 'c': '1.04074'},\n",
       "   'ask': {'o': '1.04290', 'h': '1.04332', 'l': '1.03869', 'c': '1.04083'}},\n",
       "  {'complete': True,\n",
       "   'volume': 8426,\n",
       "   'time': '2025-01-30T21:00:00.000000000Z',\n",
       "   'bid': {'o': '1.04064', 'h': '1.04137', 'l': '1.03865', 'c': '1.03913'},\n",
       "   'mid': {'o': '1.04073', 'h': '1.04144', 'l': '1.03873', 'c': '1.03923'},\n",
       "   'ask': {'o': '1.04082', 'h': '1.04152', 'l': '1.03881', 'c': '1.03933'}},\n",
       "  {'complete': True,\n",
       "   'volume': 1223,\n",
       "   'time': '2025-01-30T22:00:00.000000000Z',\n",
       "   'bid': {'o': '1.03939', 'h': '1.03945', 'l': '1.03852', 'c': '1.03865'},\n",
       "   'mid': {'o': '1.03954', 'h': '1.03957', 'l': '1.03864', 'c': '1.03882'},\n",
       "   'ask': {'o': '1.03969', 'h': '1.03969', 'l': '1.03875', 'c': '1.03899'}},\n",
       "  {'complete': False,\n",
       "   'volume': 1221,\n",
       "   'time': '2025-01-30T23:00:00.000000000Z',\n",
       "   'bid': {'o': '1.03865', 'h': '1.03890', 'l': '1.03843', 'c': '1.03878'},\n",
       "   'mid': {'o': '1.03876', 'h': '1.03898', 'l': '1.03851', 'c': '1.03886'},\n",
       "   'ask': {'o': '1.03887', 'h': '1.03906', 'l': '1.03859', 'c': '1.03894'}}]}"
      ]
     },
     "execution_count": 8,
     "metadata": {},
     "output_type": "execute_result"
    }
   ],
   "source": [
    "response.json()"
   ]
  }
 ],
 "metadata": {
  "kernelspec": {
   "display_name": "venv",
   "language": "python",
   "name": "python3"
  },
  "language_info": {
   "codemirror_mode": {
    "name": "ipython",
    "version": 3
   },
   "file_extension": ".py",
   "mimetype": "text/x-python",
   "name": "python",
   "nbconvert_exporter": "python",
   "pygments_lexer": "ipython3",
   "version": "3.10.12"
  }
 },
 "nbformat": 4,
 "nbformat_minor": 2
}
