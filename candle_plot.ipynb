{
 "cells": [
  {
   "cell_type": "markdown",
   "metadata": {},
   "source": [
    "## In this notebook, we plot various candle prices, and the moving average"
   ]
  },
  {
   "cell_type": "code",
   "execution_count": 1,
   "metadata": {},
   "outputs": [],
   "source": [
    "import pandas as pd\n",
    "import utils\n",
    "import plotly.graph_objects as go\n",
    "import instruments"
   ]
  },
  {
   "cell_type": "code",
   "execution_count": 3,
   "metadata": {},
   "outputs": [],
   "source": [
    "pair = \"EUR_USD\"\n",
    "granularity = \"H1\"\n",
    "ma_list = [16, 64]\n",
    "i_pair = instruments.Instrument.get_instrument_by_name(pair)\n",
    "\n",
    "df = pd.read_pickle(utils.get_hist_data_filename(pair, granularity))\n",
    "#df.head()\n",
    "#df.describe()\n",
    "#df.info()\n",
    "#df.columns"
   ]
  },
  {
   "cell_type": "code",
   "execution_count": 4,
   "metadata": {},
   "outputs": [],
   "source": [
    "# convert object(strings) types to integer types for data manipulation\n",
    "non_cols = ['time', 'volume']\n",
    "mod_cols = [x for x in df.columns if x not in non_cols]\n",
    "\n",
    "df[mod_cols] = df[mod_cols].apply(pd.to_numeric)"
   ]
  },
  {
   "cell_type": "code",
   "execution_count": 5,
   "metadata": {},
   "outputs": [],
   "source": [
    "df_ma = df[['time', 'mid_o', 'mid_h', 'mid_l', 'mid_c']].copy()"
   ]
  },
  {
   "cell_type": "code",
   "execution_count": 6,
   "metadata": {},
   "outputs": [],
   "source": [
    "for ma in ma_list:\n",
    "    df_ma[f'MA_{ma}'] = df_ma.mid_c.rolling(window=ma).mean()\n",
    "    \n",
    "df_ma.dropna(inplace=True)\n",
    "\n",
    "# reset index\n",
    "df_ma.reset_index(drop=True, inplace=True)"
   ]
  },
  {
   "cell_type": "code",
   "execution_count": 7,
   "metadata": {},
   "outputs": [
    {
     "data": {
      "text/html": [
       "<div>\n",
       "<style scoped>\n",
       "    .dataframe tbody tr th:only-of-type {\n",
       "        vertical-align: middle;\n",
       "    }\n",
       "\n",
       "    .dataframe tbody tr th {\n",
       "        vertical-align: top;\n",
       "    }\n",
       "\n",
       "    .dataframe thead th {\n",
       "        text-align: right;\n",
       "    }\n",
       "</style>\n",
       "<table border=\"1\" class=\"dataframe\">\n",
       "  <thead>\n",
       "    <tr style=\"text-align: right;\">\n",
       "      <th></th>\n",
       "      <th>time</th>\n",
       "      <th>mid_o</th>\n",
       "      <th>mid_h</th>\n",
       "      <th>mid_l</th>\n",
       "      <th>mid_c</th>\n",
       "      <th>MA_16</th>\n",
       "      <th>MA_64</th>\n",
       "    </tr>\n",
       "  </thead>\n",
       "  <tbody>\n",
       "    <tr>\n",
       "      <th>0</th>\n",
       "      <td>2024-06-17T02:00:00.000000000Z</td>\n",
       "      <td>1.07016</td>\n",
       "      <td>1.07049</td>\n",
       "      <td>1.06990</td>\n",
       "      <td>1.07042</td>\n",
       "      <td>1.069810</td>\n",
       "      <td>1.075689</td>\n",
       "    </tr>\n",
       "    <tr>\n",
       "      <th>1</th>\n",
       "      <td>2024-06-17T03:00:00.000000000Z</td>\n",
       "      <td>1.07043</td>\n",
       "      <td>1.07048</td>\n",
       "      <td>1.07019</td>\n",
       "      <td>1.07038</td>\n",
       "      <td>1.069871</td>\n",
       "      <td>1.075595</td>\n",
       "    </tr>\n",
       "    <tr>\n",
       "      <th>2</th>\n",
       "      <td>2024-06-17T04:00:00.000000000Z</td>\n",
       "      <td>1.07038</td>\n",
       "      <td>1.07055</td>\n",
       "      <td>1.07021</td>\n",
       "      <td>1.07042</td>\n",
       "      <td>1.069965</td>\n",
       "      <td>1.075403</td>\n",
       "    </tr>\n",
       "    <tr>\n",
       "      <th>3</th>\n",
       "      <td>2024-06-17T05:00:00.000000000Z</td>\n",
       "      <td>1.07043</td>\n",
       "      <td>1.07053</td>\n",
       "      <td>1.06992</td>\n",
       "      <td>1.06998</td>\n",
       "      <td>1.070155</td>\n",
       "      <td>1.075190</td>\n",
       "    </tr>\n",
       "    <tr>\n",
       "      <th>4</th>\n",
       "      <td>2024-06-17T06:00:00.000000000Z</td>\n",
       "      <td>1.06996</td>\n",
       "      <td>1.07040</td>\n",
       "      <td>1.06864</td>\n",
       "      <td>1.06976</td>\n",
       "      <td>1.070220</td>\n",
       "      <td>1.074955</td>\n",
       "    </tr>\n",
       "  </tbody>\n",
       "</table>\n",
       "</div>"
      ],
      "text/plain": [
       "                             time    mid_o    mid_h    mid_l    mid_c  \\\n",
       "0  2024-06-17T02:00:00.000000000Z  1.07016  1.07049  1.06990  1.07042   \n",
       "1  2024-06-17T03:00:00.000000000Z  1.07043  1.07048  1.07019  1.07038   \n",
       "2  2024-06-17T04:00:00.000000000Z  1.07038  1.07055  1.07021  1.07042   \n",
       "3  2024-06-17T05:00:00.000000000Z  1.07043  1.07053  1.06992  1.06998   \n",
       "4  2024-06-17T06:00:00.000000000Z  1.06996  1.07040  1.06864  1.06976   \n",
       "\n",
       "      MA_16     MA_64  \n",
       "0  1.069810  1.075689  \n",
       "1  1.069871  1.075595  \n",
       "2  1.069965  1.075403  \n",
       "3  1.070155  1.075190  \n",
       "4  1.070220  1.074955  "
      ]
     },
     "execution_count": 7,
     "metadata": {},
     "output_type": "execute_result"
    }
   ],
   "source": [
    "df_ma.head()"
   ]
  },
  {
   "cell_type": "code",
   "execution_count": 8,
   "metadata": {},
   "outputs": [],
   "source": [
    "df_ma['DIFF'] = df_ma.MA_16 - df_ma.MA_64"
   ]
  },
  {
   "cell_type": "code",
   "execution_count": 9,
   "metadata": {},
   "outputs": [],
   "source": [
    "df_ma['DIFF_PREV'] = df_ma.DIFF.shift(1)"
   ]
  },
  {
   "cell_type": "code",
   "execution_count": 10,
   "metadata": {},
   "outputs": [],
   "source": [
    "def is_trade(row):\n",
    "    if row.DIFF >= 0 and row.DIFF_PREV < 0:\n",
    "        return 1\n",
    "    if row.DIFF <= 0 and row.DIFF_PREV > 0:\n",
    "        return -1\n",
    "    return 0"
   ]
  },
  {
   "cell_type": "code",
   "execution_count": 11,
   "metadata": {},
   "outputs": [],
   "source": [
    "df_ma['IS_TRADE'] = df_ma.apply(is_trade, axis=1)"
   ]
  },
  {
   "cell_type": "code",
   "execution_count": 12,
   "metadata": {},
   "outputs": [],
   "source": [
    "df_trades = df_ma[df_ma.IS_TRADE != 0].copy()"
   ]
  },
  {
   "cell_type": "code",
   "execution_count": 13,
   "metadata": {},
   "outputs": [
    {
     "data": {
      "text/html": [
       "<div>\n",
       "<style scoped>\n",
       "    .dataframe tbody tr th:only-of-type {\n",
       "        vertical-align: middle;\n",
       "    }\n",
       "\n",
       "    .dataframe tbody tr th {\n",
       "        vertical-align: top;\n",
       "    }\n",
       "\n",
       "    .dataframe thead th {\n",
       "        text-align: right;\n",
       "    }\n",
       "</style>\n",
       "<table border=\"1\" class=\"dataframe\">\n",
       "  <thead>\n",
       "    <tr style=\"text-align: right;\">\n",
       "      <th></th>\n",
       "      <th>time</th>\n",
       "      <th>mid_o</th>\n",
       "      <th>mid_h</th>\n",
       "      <th>mid_l</th>\n",
       "      <th>mid_c</th>\n",
       "      <th>MA_16</th>\n",
       "      <th>MA_64</th>\n",
       "      <th>DIFF</th>\n",
       "      <th>DIFF_PREV</th>\n",
       "      <th>IS_TRADE</th>\n",
       "    </tr>\n",
       "  </thead>\n",
       "  <tbody>\n",
       "    <tr>\n",
       "      <th>22</th>\n",
       "      <td>2024-06-18T00:00:00.000000000Z</td>\n",
       "      <td>1.07402</td>\n",
       "      <td>1.07408</td>\n",
       "      <td>1.07356</td>\n",
       "      <td>1.07360</td>\n",
       "      <td>1.072495</td>\n",
       "      <td>1.072378</td>\n",
       "      <td>0.000117</td>\n",
       "      <td>-0.000173</td>\n",
       "      <td>1</td>\n",
       "    </tr>\n",
       "    <tr>\n",
       "      <th>81</th>\n",
       "      <td>2024-06-20T11:00:00.000000000Z</td>\n",
       "      <td>1.07288</td>\n",
       "      <td>1.07322</td>\n",
       "      <td>1.07130</td>\n",
       "      <td>1.07150</td>\n",
       "      <td>1.073616</td>\n",
       "      <td>1.073628</td>\n",
       "      <td>-0.000012</td>\n",
       "      <td>0.000148</td>\n",
       "      <td>-1</td>\n",
       "    </tr>\n",
       "    <tr>\n",
       "      <th>132</th>\n",
       "      <td>2024-06-24T14:00:00.000000000Z</td>\n",
       "      <td>1.07426</td>\n",
       "      <td>1.07465</td>\n",
       "      <td>1.07272</td>\n",
       "      <td>1.07301</td>\n",
       "      <td>1.071071</td>\n",
       "      <td>1.071047</td>\n",
       "      <td>0.000024</td>\n",
       "      <td>-0.000226</td>\n",
       "      <td>1</td>\n",
       "    </tr>\n",
       "    <tr>\n",
       "      <th>166</th>\n",
       "      <td>2024-06-26T00:00:00.000000000Z</td>\n",
       "      <td>1.07091</td>\n",
       "      <td>1.07126</td>\n",
       "      <td>1.07062</td>\n",
       "      <td>1.07115</td>\n",
       "      <td>1.071136</td>\n",
       "      <td>1.071292</td>\n",
       "      <td>-0.000156</td>\n",
       "      <td>0.000019</td>\n",
       "      <td>-1</td>\n",
       "    </tr>\n",
       "    <tr>\n",
       "      <th>209</th>\n",
       "      <td>2024-06-27T19:00:00.000000000Z</td>\n",
       "      <td>1.07060</td>\n",
       "      <td>1.07074</td>\n",
       "      <td>1.07014</td>\n",
       "      <td>1.07030</td>\n",
       "      <td>1.070226</td>\n",
       "      <td>1.070168</td>\n",
       "      <td>0.000058</td>\n",
       "      <td>-0.000074</td>\n",
       "      <td>1</td>\n",
       "    </tr>\n",
       "  </tbody>\n",
       "</table>\n",
       "</div>"
      ],
      "text/plain": [
       "                               time    mid_o    mid_h    mid_l    mid_c  \\\n",
       "22   2024-06-18T00:00:00.000000000Z  1.07402  1.07408  1.07356  1.07360   \n",
       "81   2024-06-20T11:00:00.000000000Z  1.07288  1.07322  1.07130  1.07150   \n",
       "132  2024-06-24T14:00:00.000000000Z  1.07426  1.07465  1.07272  1.07301   \n",
       "166  2024-06-26T00:00:00.000000000Z  1.07091  1.07126  1.07062  1.07115   \n",
       "209  2024-06-27T19:00:00.000000000Z  1.07060  1.07074  1.07014  1.07030   \n",
       "\n",
       "        MA_16     MA_64      DIFF  DIFF_PREV  IS_TRADE  \n",
       "22   1.072495  1.072378  0.000117  -0.000173         1  \n",
       "81   1.073616  1.073628 -0.000012   0.000148        -1  \n",
       "132  1.071071  1.071047  0.000024  -0.000226         1  \n",
       "166  1.071136  1.071292 -0.000156   0.000019        -1  \n",
       "209  1.070226  1.070168  0.000058  -0.000074         1  "
      ]
     },
     "execution_count": 13,
     "metadata": {},
     "output_type": "execute_result"
    }
   ],
   "source": [
    "df_trades.head()"
   ]
  },
  {
   "cell_type": "code",
   "execution_count": null,
   "metadata": {},
   "outputs": [],
   "source": [
    "# assess performance of strategy"
   ]
  },
  {
   "cell_type": "code",
   "execution_count": 85,
   "metadata": {},
   "outputs": [],
   "source": [
    "# plot last 100 candles\n",
    "df_plot = df_ma.iloc[:37].copy()"
   ]
  },
  {
   "cell_type": "code",
   "execution_count": 86,
   "metadata": {},
   "outputs": [
    {
     "data": {
      "application/vnd.plotly.v1+json": {
       "config": {
        "plotlyServerURL": "https://plot.ly"
       },
       "data": [
        {
         "close": {
          "bdata": "N8MN+Pww8T//BBcrajDxP/7UeOkmMfE/xhaCHJQw8T9wmdNlMTHxP4z4Tsx6MfE/w7ZFmQ0y8T9SCrq9pDHxPzarPldbMfE/Htydtdsu8T85C3va4S/xPzjzqzlAMPE/PIOG/gku8T/ONjemJyzxP0bT2cngKPE/LzTXaaQl8T/wbfqzHynxP5jArbt5KvE/vp8aL90k8T/YnlkSoCbxP2JKJNHLKPE/8s02N6Yn8T/9TShEwCHxPxnFckurIfE/qAAYz6Ah8T9tyhXe5SLxP8anABjPIPE/q3gj88gf8T+N0TqqmiDxP8jvbfqzH/E/xY8xdy0h8T/h7qzddiHxP96OcFrwIvE/LzTXaaQl8T/2XRH8byXxP7w/3qtWJvE/oOBiRQ0m8T8=",
          "dtype": "f8"
         },
         "decreasing": {
          "fillcolor": "#CC2E3C",
          "line": {
           "color": "#FF3A4C"
          }
         },
         "high": {
          "bdata": "pz/7kSIy8T83ww34/DDxP4z4Tsx6MfE/xebj2lAx8T9uaTUk7jHxP1Ly6hwDMvE/3/3xXrUy8T+KsOHplTLxP8OedvhrMvE/qG+Z02Ux8T+OWItPATDxP/7UeOkmMfE/xhaCHJQw8T+tLxLaci7xP1oSoKaWLfE/1A5/TdYo8T98YTJVMCrxP12Kq8q+K/E/JJwWvOgr8T/PZtXnaivxPwqFCDiEKvE/CFVq9kAr8T+A8Qwa+ifxP8IXJlMFI/E/NPRPcLEi8T8Spb3BFybxP952oblOI/E/N1SM8zch8T/iHksfuiDxP/+VlSalIPE/bxKDwMoh8T/g1t081SHxPzPcgM8PI/E/vFetTPgl8T+9b3ztmSXxPy4EOShhJvE/9P3UeOkm8T8=",
          "dtype": "f8"
         },
         "increasing": {
          "fillcolor": "#24A06B",
          "line": {
           "color": "#2EC886"
          }
         },
         "line": {
          "width": 1
         },
         "low": {
          "bdata": "jSjtDb4w8T/jpZvEIDDxPzjzqzlAMPE/cclxp3Qw8T8429yYnjDxP+J1/YLdMPE/qG+Z02Ux8T/+1HjpJjHxP6vP1VbsL/E/WMoyxLEu8T87U+i8xi7xPzojSnuDL/E/WfrQBfUt8T8IVWr2QCvxP3/Bbti2KPE/FjWYhuEj8T8xfERMiSTxP3/Bbti2KPE/3EYDeAsk8T8xlBPtKiTxP9rmxvSEJfE/EF1Q3zIn8T+oABjPoCHxPzmc+dUcIPE/xr/PuHAg8T82PL1SliHxPxwlr84xIPE/Ad4CCYof8T/kZrgBnx/xP1dD4h5LH/E/Ad4CCYof8T85nPnVHCDxP1TjpZvEIPE/bcoV3uUi8T+H4SNiSiTxPxTtKqT8JPE/vp8aL90k8T8=",
          "dtype": "f8"
         },
         "opacity": 1,
         "open": {
          "bdata": "w7ZFmQ0y8T/idf2C3TDxP+ONzCN/MPE//tR46SYx8T+NKO0NvjDxP3CZ02UxMfE//bypSIUx8T/9pNqn4zHxP8TOFDqvMfE/qG+Z02Ux8T8CZVOu8C7xP6vP1VbsL/E/VWr2QCsw8T/LviuC/y3xP842N6YnLPE/1A5/TdYo8T+EgefewyXxP36pnzcVKfE/CoUIOIQq8T/bFmU2yCTxP2ba/pWVJvE/8IXJVMEo8T/WVuwvuyfxPxnFckurIfE//U0oRMAh8T82PL1SliHxP1BTy9b6IvE/VOOlm8Qg8T9WKxN+qR/xP43ROqqaIPE/5Ga4AZ8f8T/FjzF3LSHxP1OzB1qBIfE/UFPL1voi8T/a5sb0hCXxPxPVWwNbJfE/2LYos0Em8T8=",
          "dtype": "f8"
         },
         "type": "candlestick",
         "x": [
          "2024-06-19T17:00:00.000000000Z",
          "2024-06-19T18:00:00.000000000Z",
          "2024-06-19T19:00:00.000000000Z",
          "2024-06-19T20:00:00.000000000Z",
          "2024-06-19T21:00:00.000000000Z",
          "2024-06-19T22:00:00.000000000Z",
          "2024-06-19T23:00:00.000000000Z",
          "2024-06-20T00:00:00.000000000Z",
          "2024-06-20T01:00:00.000000000Z",
          "2024-06-20T02:00:00.000000000Z",
          "2024-06-20T03:00:00.000000000Z",
          "2024-06-20T04:00:00.000000000Z",
          "2024-06-20T05:00:00.000000000Z",
          "2024-06-20T06:00:00.000000000Z",
          "2024-06-20T07:00:00.000000000Z",
          "2024-06-20T08:00:00.000000000Z",
          "2024-06-20T09:00:00.000000000Z",
          "2024-06-20T10:00:00.000000000Z",
          "2024-06-20T11:00:00.000000000Z",
          "2024-06-20T12:00:00.000000000Z",
          "2024-06-20T13:00:00.000000000Z",
          "2024-06-20T14:00:00.000000000Z",
          "2024-06-20T15:00:00.000000000Z",
          "2024-06-20T16:00:00.000000000Z",
          "2024-06-20T17:00:00.000000000Z",
          "2024-06-20T18:00:00.000000000Z",
          "2024-06-20T19:00:00.000000000Z",
          "2024-06-20T20:00:00.000000000Z",
          "2024-06-20T21:00:00.000000000Z",
          "2024-06-20T22:00:00.000000000Z",
          "2024-06-20T23:00:00.000000000Z",
          "2024-06-21T00:00:00.000000000Z",
          "2024-06-21T01:00:00.000000000Z",
          "2024-06-21T02:00:00.000000000Z",
          "2024-06-21T03:00:00.000000000Z",
          "2024-06-21T04:00:00.000000000Z",
          "2024-06-21T05:00:00.000000000Z"
         ]
        },
        {
         "line": {
          "shape": "spline",
          "width": 2
         },
         "name": "MA_16",
         "type": "scatter",
         "x": [
          "2024-06-19T17:00:00.000000000Z",
          "2024-06-19T18:00:00.000000000Z",
          "2024-06-19T19:00:00.000000000Z",
          "2024-06-19T20:00:00.000000000Z",
          "2024-06-19T21:00:00.000000000Z",
          "2024-06-19T22:00:00.000000000Z",
          "2024-06-19T23:00:00.000000000Z",
          "2024-06-20T00:00:00.000000000Z",
          "2024-06-20T01:00:00.000000000Z",
          "2024-06-20T02:00:00.000000000Z",
          "2024-06-20T03:00:00.000000000Z",
          "2024-06-20T04:00:00.000000000Z",
          "2024-06-20T05:00:00.000000000Z",
          "2024-06-20T06:00:00.000000000Z",
          "2024-06-20T07:00:00.000000000Z",
          "2024-06-20T08:00:00.000000000Z",
          "2024-06-20T09:00:00.000000000Z",
          "2024-06-20T10:00:00.000000000Z",
          "2024-06-20T11:00:00.000000000Z",
          "2024-06-20T12:00:00.000000000Z",
          "2024-06-20T13:00:00.000000000Z",
          "2024-06-20T14:00:00.000000000Z",
          "2024-06-20T15:00:00.000000000Z",
          "2024-06-20T16:00:00.000000000Z",
          "2024-06-20T17:00:00.000000000Z",
          "2024-06-20T18:00:00.000000000Z",
          "2024-06-20T19:00:00.000000000Z",
          "2024-06-20T20:00:00.000000000Z",
          "2024-06-20T21:00:00.000000000Z",
          "2024-06-20T22:00:00.000000000Z",
          "2024-06-20T23:00:00.000000000Z",
          "2024-06-21T00:00:00.000000000Z",
          "2024-06-21T01:00:00.000000000Z",
          "2024-06-21T02:00:00.000000000Z",
          "2024-06-21T03:00:00.000000000Z",
          "2024-06-21T04:00:00.000000000Z",
          "2024-06-21T05:00:00.000000000Z"
         ],
         "y": {
          "bdata": "OWItPgUw8T9y/iYUIjDxP3Jyv0NRMPE/1EM0uoMw8T9iEFg5tDDxP/BQFOgTMfE/GvonuFgx8T82AvG6fjHxP0TdByC1MfE/RC+jWG4x8T+MSuoENDHxP6jBNAwfMfE/4q/JGvUw8T8bDeAtkDDxP8eA7PXuL/E/5US7Cikv8T+QD3o2qy7xP0p7gy9MLvE/9pfdk4ct8T93EDtT6CzxP4Yb8PlhLPE/3JiesMQr8T9QwkzbvyrxP/1NKETAKfE/VOOlm8Qo8T85Yi0+BSjxPwK8BRIUJ/E/WTSdnQwm8T8+eVioNSXxP87km21uJPE/lmBxOPMj8T9BvK5fsCPxP1AeFmpNI/E/ibX4FAAj8T9sIchBCSPxP3trYKsEI/E/31Skwtgi8T8=",
          "dtype": "f8"
         }
        },
        {
         "line": {
          "shape": "spline",
          "width": 2
         },
         "name": "MA_64",
         "type": "scatter",
         "x": [
          "2024-06-19T17:00:00.000000000Z",
          "2024-06-19T18:00:00.000000000Z",
          "2024-06-19T19:00:00.000000000Z",
          "2024-06-19T20:00:00.000000000Z",
          "2024-06-19T21:00:00.000000000Z",
          "2024-06-19T22:00:00.000000000Z",
          "2024-06-19T23:00:00.000000000Z",
          "2024-06-20T00:00:00.000000000Z",
          "2024-06-20T01:00:00.000000000Z",
          "2024-06-20T02:00:00.000000000Z",
          "2024-06-20T03:00:00.000000000Z",
          "2024-06-20T04:00:00.000000000Z",
          "2024-06-20T05:00:00.000000000Z",
          "2024-06-20T06:00:00.000000000Z",
          "2024-06-20T07:00:00.000000000Z",
          "2024-06-20T08:00:00.000000000Z",
          "2024-06-20T09:00:00.000000000Z",
          "2024-06-20T10:00:00.000000000Z",
          "2024-06-20T11:00:00.000000000Z",
          "2024-06-20T12:00:00.000000000Z",
          "2024-06-20T13:00:00.000000000Z",
          "2024-06-20T14:00:00.000000000Z",
          "2024-06-20T15:00:00.000000000Z",
          "2024-06-20T16:00:00.000000000Z",
          "2024-06-20T17:00:00.000000000Z",
          "2024-06-20T18:00:00.000000000Z",
          "2024-06-20T19:00:00.000000000Z",
          "2024-06-20T20:00:00.000000000Z",
          "2024-06-20T21:00:00.000000000Z",
          "2024-06-20T22:00:00.000000000Z",
          "2024-06-20T23:00:00.000000000Z",
          "2024-06-21T00:00:00.000000000Z",
          "2024-06-21T01:00:00.000000000Z",
          "2024-06-21T02:00:00.000000000Z",
          "2024-06-21T03:00:00.000000000Z",
          "2024-06-21T04:00:00.000000000Z",
          "2024-06-21T05:00:00.000000000Z"
         ],
         "y": {
          "bdata": "ychZ2NMq8T/e5SK+EyvxP3o2qz5XK/E/1v85zJcr8T9LdmwE4ivxP8MN+PwwLPE/DYl7LH0s8T8jpkQSvSzxP/Mau0T1LPE/OzsZHCUt8T+pUrMHWi3xP7oxPWGJLfE/c9wpHawt8T8dIJijxy3xP9mUK7zLLfE/Ft7lIr4t8T+rWz0nvS3xP2SSkbOwLfE/T8x6MZQt8T89J71vfC3xP+XyH9JvLfE/yAc9m1Ut8T8lr84xIC3xPyY7NgLxLPE/tDwP7s4s8T/Y2CWqtyzxPwaeew+XLPE/5pE/GHgs8T/8xteeWSzxP6pgVFInLPE/lZo90Aos8T/EfHkB9ivxPzws1JrmK/E/eZJ0zeQr8T95knTN5CvxP6h0sP7PK/E/aHke3J0r8T8=",
          "dtype": "f8"
         }
        }
       ],
       "layout": {
        "font": {
         "color": "#e1e1e1",
         "size": 10
        },
        "height": 400,
        "margin": {
         "b": 10,
         "l": 10,
         "r": 10,
         "t": 10
        },
        "paper_bgcolor": "#1e1e1e",
        "plot_bgcolor": "#1e1e1e",
        "template": {
         "data": {
          "bar": [
           {
            "error_x": {
             "color": "#2a3f5f"
            },
            "error_y": {
             "color": "#2a3f5f"
            },
            "marker": {
             "line": {
              "color": "#E5ECF6",
              "width": 0.5
             },
             "pattern": {
              "fillmode": "overlay",
              "size": 10,
              "solidity": 0.2
             }
            },
            "type": "bar"
           }
          ],
          "barpolar": [
           {
            "marker": {
             "line": {
              "color": "#E5ECF6",
              "width": 0.5
             },
             "pattern": {
              "fillmode": "overlay",
              "size": 10,
              "solidity": 0.2
             }
            },
            "type": "barpolar"
           }
          ],
          "carpet": [
           {
            "aaxis": {
             "endlinecolor": "#2a3f5f",
             "gridcolor": "white",
             "linecolor": "white",
             "minorgridcolor": "white",
             "startlinecolor": "#2a3f5f"
            },
            "baxis": {
             "endlinecolor": "#2a3f5f",
             "gridcolor": "white",
             "linecolor": "white",
             "minorgridcolor": "white",
             "startlinecolor": "#2a3f5f"
            },
            "type": "carpet"
           }
          ],
          "choropleth": [
           {
            "colorbar": {
             "outlinewidth": 0,
             "ticks": ""
            },
            "type": "choropleth"
           }
          ],
          "contour": [
           {
            "colorbar": {
             "outlinewidth": 0,
             "ticks": ""
            },
            "colorscale": [
             [
              0,
              "#0d0887"
             ],
             [
              0.1111111111111111,
              "#46039f"
             ],
             [
              0.2222222222222222,
              "#7201a8"
             ],
             [
              0.3333333333333333,
              "#9c179e"
             ],
             [
              0.4444444444444444,
              "#bd3786"
             ],
             [
              0.5555555555555556,
              "#d8576b"
             ],
             [
              0.6666666666666666,
              "#ed7953"
             ],
             [
              0.7777777777777778,
              "#fb9f3a"
             ],
             [
              0.8888888888888888,
              "#fdca26"
             ],
             [
              1,
              "#f0f921"
             ]
            ],
            "type": "contour"
           }
          ],
          "contourcarpet": [
           {
            "colorbar": {
             "outlinewidth": 0,
             "ticks": ""
            },
            "type": "contourcarpet"
           }
          ],
          "heatmap": [
           {
            "colorbar": {
             "outlinewidth": 0,
             "ticks": ""
            },
            "colorscale": [
             [
              0,
              "#0d0887"
             ],
             [
              0.1111111111111111,
              "#46039f"
             ],
             [
              0.2222222222222222,
              "#7201a8"
             ],
             [
              0.3333333333333333,
              "#9c179e"
             ],
             [
              0.4444444444444444,
              "#bd3786"
             ],
             [
              0.5555555555555556,
              "#d8576b"
             ],
             [
              0.6666666666666666,
              "#ed7953"
             ],
             [
              0.7777777777777778,
              "#fb9f3a"
             ],
             [
              0.8888888888888888,
              "#fdca26"
             ],
             [
              1,
              "#f0f921"
             ]
            ],
            "type": "heatmap"
           }
          ],
          "histogram": [
           {
            "marker": {
             "pattern": {
              "fillmode": "overlay",
              "size": 10,
              "solidity": 0.2
             }
            },
            "type": "histogram"
           }
          ],
          "histogram2d": [
           {
            "colorbar": {
             "outlinewidth": 0,
             "ticks": ""
            },
            "colorscale": [
             [
              0,
              "#0d0887"
             ],
             [
              0.1111111111111111,
              "#46039f"
             ],
             [
              0.2222222222222222,
              "#7201a8"
             ],
             [
              0.3333333333333333,
              "#9c179e"
             ],
             [
              0.4444444444444444,
              "#bd3786"
             ],
             [
              0.5555555555555556,
              "#d8576b"
             ],
             [
              0.6666666666666666,
              "#ed7953"
             ],
             [
              0.7777777777777778,
              "#fb9f3a"
             ],
             [
              0.8888888888888888,
              "#fdca26"
             ],
             [
              1,
              "#f0f921"
             ]
            ],
            "type": "histogram2d"
           }
          ],
          "histogram2dcontour": [
           {
            "colorbar": {
             "outlinewidth": 0,
             "ticks": ""
            },
            "colorscale": [
             [
              0,
              "#0d0887"
             ],
             [
              0.1111111111111111,
              "#46039f"
             ],
             [
              0.2222222222222222,
              "#7201a8"
             ],
             [
              0.3333333333333333,
              "#9c179e"
             ],
             [
              0.4444444444444444,
              "#bd3786"
             ],
             [
              0.5555555555555556,
              "#d8576b"
             ],
             [
              0.6666666666666666,
              "#ed7953"
             ],
             [
              0.7777777777777778,
              "#fb9f3a"
             ],
             [
              0.8888888888888888,
              "#fdca26"
             ],
             [
              1,
              "#f0f921"
             ]
            ],
            "type": "histogram2dcontour"
           }
          ],
          "mesh3d": [
           {
            "colorbar": {
             "outlinewidth": 0,
             "ticks": ""
            },
            "type": "mesh3d"
           }
          ],
          "parcoords": [
           {
            "line": {
             "colorbar": {
              "outlinewidth": 0,
              "ticks": ""
             }
            },
            "type": "parcoords"
           }
          ],
          "pie": [
           {
            "automargin": true,
            "type": "pie"
           }
          ],
          "scatter": [
           {
            "fillpattern": {
             "fillmode": "overlay",
             "size": 10,
             "solidity": 0.2
            },
            "type": "scatter"
           }
          ],
          "scatter3d": [
           {
            "line": {
             "colorbar": {
              "outlinewidth": 0,
              "ticks": ""
             }
            },
            "marker": {
             "colorbar": {
              "outlinewidth": 0,
              "ticks": ""
             }
            },
            "type": "scatter3d"
           }
          ],
          "scattercarpet": [
           {
            "marker": {
             "colorbar": {
              "outlinewidth": 0,
              "ticks": ""
             }
            },
            "type": "scattercarpet"
           }
          ],
          "scattergeo": [
           {
            "marker": {
             "colorbar": {
              "outlinewidth": 0,
              "ticks": ""
             }
            },
            "type": "scattergeo"
           }
          ],
          "scattergl": [
           {
            "marker": {
             "colorbar": {
              "outlinewidth": 0,
              "ticks": ""
             }
            },
            "type": "scattergl"
           }
          ],
          "scattermap": [
           {
            "marker": {
             "colorbar": {
              "outlinewidth": 0,
              "ticks": ""
             }
            },
            "type": "scattermap"
           }
          ],
          "scattermapbox": [
           {
            "marker": {
             "colorbar": {
              "outlinewidth": 0,
              "ticks": ""
             }
            },
            "type": "scattermapbox"
           }
          ],
          "scatterpolar": [
           {
            "marker": {
             "colorbar": {
              "outlinewidth": 0,
              "ticks": ""
             }
            },
            "type": "scatterpolar"
           }
          ],
          "scatterpolargl": [
           {
            "marker": {
             "colorbar": {
              "outlinewidth": 0,
              "ticks": ""
             }
            },
            "type": "scatterpolargl"
           }
          ],
          "scatterternary": [
           {
            "marker": {
             "colorbar": {
              "outlinewidth": 0,
              "ticks": ""
             }
            },
            "type": "scatterternary"
           }
          ],
          "surface": [
           {
            "colorbar": {
             "outlinewidth": 0,
             "ticks": ""
            },
            "colorscale": [
             [
              0,
              "#0d0887"
             ],
             [
              0.1111111111111111,
              "#46039f"
             ],
             [
              0.2222222222222222,
              "#7201a8"
             ],
             [
              0.3333333333333333,
              "#9c179e"
             ],
             [
              0.4444444444444444,
              "#bd3786"
             ],
             [
              0.5555555555555556,
              "#d8576b"
             ],
             [
              0.6666666666666666,
              "#ed7953"
             ],
             [
              0.7777777777777778,
              "#fb9f3a"
             ],
             [
              0.8888888888888888,
              "#fdca26"
             ],
             [
              1,
              "#f0f921"
             ]
            ],
            "type": "surface"
           }
          ],
          "table": [
           {
            "cells": {
             "fill": {
              "color": "#EBF0F8"
             },
             "line": {
              "color": "white"
             }
            },
            "header": {
             "fill": {
              "color": "#C8D4E3"
             },
             "line": {
              "color": "white"
             }
            },
            "type": "table"
           }
          ]
         },
         "layout": {
          "annotationdefaults": {
           "arrowcolor": "#2a3f5f",
           "arrowhead": 0,
           "arrowwidth": 1
          },
          "autotypenumbers": "strict",
          "coloraxis": {
           "colorbar": {
            "outlinewidth": 0,
            "ticks": ""
           }
          },
          "colorscale": {
           "diverging": [
            [
             0,
             "#8e0152"
            ],
            [
             0.1,
             "#c51b7d"
            ],
            [
             0.2,
             "#de77ae"
            ],
            [
             0.3,
             "#f1b6da"
            ],
            [
             0.4,
             "#fde0ef"
            ],
            [
             0.5,
             "#f7f7f7"
            ],
            [
             0.6,
             "#e6f5d0"
            ],
            [
             0.7,
             "#b8e186"
            ],
            [
             0.8,
             "#7fbc41"
            ],
            [
             0.9,
             "#4d9221"
            ],
            [
             1,
             "#276419"
            ]
           ],
           "sequential": [
            [
             0,
             "#0d0887"
            ],
            [
             0.1111111111111111,
             "#46039f"
            ],
            [
             0.2222222222222222,
             "#7201a8"
            ],
            [
             0.3333333333333333,
             "#9c179e"
            ],
            [
             0.4444444444444444,
             "#bd3786"
            ],
            [
             0.5555555555555556,
             "#d8576b"
            ],
            [
             0.6666666666666666,
             "#ed7953"
            ],
            [
             0.7777777777777778,
             "#fb9f3a"
            ],
            [
             0.8888888888888888,
             "#fdca26"
            ],
            [
             1,
             "#f0f921"
            ]
           ],
           "sequentialminus": [
            [
             0,
             "#0d0887"
            ],
            [
             0.1111111111111111,
             "#46039f"
            ],
            [
             0.2222222222222222,
             "#7201a8"
            ],
            [
             0.3333333333333333,
             "#9c179e"
            ],
            [
             0.4444444444444444,
             "#bd3786"
            ],
            [
             0.5555555555555556,
             "#d8576b"
            ],
            [
             0.6666666666666666,
             "#ed7953"
            ],
            [
             0.7777777777777778,
             "#fb9f3a"
            ],
            [
             0.8888888888888888,
             "#fdca26"
            ],
            [
             1,
             "#f0f921"
            ]
           ]
          },
          "colorway": [
           "#636efa",
           "#EF553B",
           "#00cc96",
           "#ab63fa",
           "#FFA15A",
           "#19d3f3",
           "#FF6692",
           "#B6E880",
           "#FF97FF",
           "#FECB52"
          ],
          "font": {
           "color": "#2a3f5f"
          },
          "geo": {
           "bgcolor": "white",
           "lakecolor": "white",
           "landcolor": "#E5ECF6",
           "showlakes": true,
           "showland": true,
           "subunitcolor": "white"
          },
          "hoverlabel": {
           "align": "left"
          },
          "hovermode": "closest",
          "mapbox": {
           "style": "light"
          },
          "paper_bgcolor": "white",
          "plot_bgcolor": "#E5ECF6",
          "polar": {
           "angularaxis": {
            "gridcolor": "white",
            "linecolor": "white",
            "ticks": ""
           },
           "bgcolor": "#E5ECF6",
           "radialaxis": {
            "gridcolor": "white",
            "linecolor": "white",
            "ticks": ""
           }
          },
          "scene": {
           "xaxis": {
            "backgroundcolor": "#E5ECF6",
            "gridcolor": "white",
            "gridwidth": 2,
            "linecolor": "white",
            "showbackground": true,
            "ticks": "",
            "zerolinecolor": "white"
           },
           "yaxis": {
            "backgroundcolor": "#E5ECF6",
            "gridcolor": "white",
            "gridwidth": 2,
            "linecolor": "white",
            "showbackground": true,
            "ticks": "",
            "zerolinecolor": "white"
           },
           "zaxis": {
            "backgroundcolor": "#E5ECF6",
            "gridcolor": "white",
            "gridwidth": 2,
            "linecolor": "white",
            "showbackground": true,
            "ticks": "",
            "zerolinecolor": "white"
           }
          },
          "shapedefaults": {
           "line": {
            "color": "#2a3f5f"
           }
          },
          "ternary": {
           "aaxis": {
            "gridcolor": "white",
            "linecolor": "white",
            "ticks": ""
           },
           "baxis": {
            "gridcolor": "white",
            "linecolor": "white",
            "ticks": ""
           },
           "bgcolor": "#E5ECF6",
           "caxis": {
            "gridcolor": "white",
            "linecolor": "white",
            "ticks": ""
           }
          },
          "title": {
           "x": 0.05
          },
          "xaxis": {
           "automargin": true,
           "gridcolor": "white",
           "linecolor": "white",
           "ticks": "",
           "title": {
            "standoff": 15
           },
           "zerolinecolor": "white",
           "zerolinewidth": 2
          },
          "yaxis": {
           "automargin": true,
           "gridcolor": "white",
           "linecolor": "white",
           "ticks": "",
           "title": {
            "standoff": 15
           },
           "zerolinecolor": "white",
           "zerolinewidth": 2
          }
         }
        },
        "width": 1000,
        "xaxis": {
         "fixedrange": true,
         "gridcolor": "#1f292f",
         "showgrid": true
        },
        "yaxis": {
         "gridcolor": "#1f292f",
         "showgrid": true
        }
       }
      }
     },
     "metadata": {},
     "output_type": "display_data"
    }
   ],
   "source": [
    "fig = go.Figure()\n",
    "fig.add_trace(go.Candlestick(\n",
    "    x=df_plot.time, \n",
    "    open=df_plot.mid_o, \n",
    "    high=df_plot.mid_h, \n",
    "    low=df_plot.mid_l, \n",
    "    close=df_plot.mid_c,\n",
    "    line=dict(width=1),\n",
    "    opacity=1,\n",
    "    increasing_fillcolor=\"#24A06B\",\n",
    "    decreasing_fillcolor=\"#CC2E3C\",\n",
    "    increasing_line_color=\"#2EC886\",\n",
    "    decreasing_line_color=\"#FF3A4C\"\n",
    "))\n",
    "for ma in ma_list:\n",
    "    col = f\"MA_{ma}\"\n",
    "    fig.add_trace(go.Scatter(\n",
    "        x=df_plot.time,\n",
    "        y=df_plot[col],\n",
    "        line=dict(width=2),\n",
    "        line_shape='spline',\n",
    "        name=col\n",
    "))\n",
    "fig.update_layout(\n",
    "    width=1000, height=400,\n",
    "    font=dict(size=10, color=\"#e1e1e1\"),\n",
    "    margin=dict(l=10, r=10, b=10, t=10),\n",
    "    paper_bgcolor=\"#1e1e1e\",\n",
    "    plot_bgcolor=\"#1e1e1e\"\n",
    ")\n",
    "fig.update_xaxes(\n",
    "    gridcolor=\"#1f292f\",\n",
    "    showgrid=True, fixedrange=True, #rangeslider=dict(visible=False)\n",
    ")\n",
    "fig.update_yaxes(\n",
    "    gridcolor=\"#1f292f\",\n",
    "    showgrid=True\n",
    ")\n",
    "fig.show()"
   ]
  }
 ],
 "metadata": {
  "kernelspec": {
   "display_name": "venv",
   "language": "python",
   "name": "python3"
  },
  "language_info": {
   "codemirror_mode": {
    "name": "ipython",
    "version": 3
   },
   "file_extension": ".py",
   "mimetype": "text/x-python",
   "name": "python",
   "nbconvert_exporter": "python",
   "pygments_lexer": "ipython3",
   "version": "3.10.12"
  }
 },
 "nbformat": 4,
 "nbformat_minor": 2
}
